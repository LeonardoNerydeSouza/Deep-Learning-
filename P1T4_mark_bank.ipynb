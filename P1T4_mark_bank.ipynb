{
  "nbformat": 4,
  "nbformat_minor": 0,
  "metadata": {
    "colab": {
      "name": "P1T4_mark_bank.ipynb",
      "provenance": [],
      "collapsed_sections": [
        "4Ta3iEi1nbcj",
        "rhfbnuIAn_tF",
        "BOm0xgq3pIwl",
        "eG5SnXuiXicq",
        "YInL2A6xhWHC",
        "2kuiDgGqRgAx"
      ],
      "include_colab_link": true
    },
    "kernelspec": {
      "name": "python3",
      "display_name": "Python 3"
    }
  },
  "cells": [
    {
      "cell_type": "markdown",
      "metadata": {
        "id": "view-in-github",
        "colab_type": "text"
      },
      "source": [
        "<a href=\"https://colab.research.google.com/github/LeonardoNerydeSouza/Deep-Learning-/blob/master/P1T4_mark_bank.ipynb\" target=\"_parent\"><img src=\"https://colab.research.google.com/assets/colab-badge.svg\" alt=\"Open In Colab\"/></a>"
      ]
    },
    {
      "cell_type": "markdown",
      "metadata": {
        "id": "d79rvqUCnkKn",
        "colab_type": "text"
      },
      "source": [
        "#MARK.BANK"
      ]
    },
    {
      "cell_type": "markdown",
      "metadata": {
        "id": "2j3km-A9nx4K",
        "colab_type": "text"
      },
      "source": [
        "##Modificación del DataSet"
      ]
    },
    {
      "cell_type": "markdown",
      "metadata": {
        "id": "4Ta3iEi1nbcj",
        "colab_type": "text"
      },
      "source": [
        "###Importar librerías"
      ]
    },
    {
      "cell_type": "code",
      "metadata": {
        "id": "pPgXKGKFNzUN",
        "colab_type": "code",
        "colab": {
          "base_uri": "https://localhost:8080/",
          "height": 71
        },
        "outputId": "83527703-90c0-463d-f091-e1192be60d17"
      },
      "source": [
        "import numpy as np\n",
        "import pandas as pd\n",
        "import matplotlib.pyplot as plt \n",
        "import seaborn as sns \n",
        "from sklearn import metrics\n",
        "from sklearn.linear_model import LogisticRegression\n",
        "from sklearn.model_selection import train_test_split"
      ],
      "execution_count": null,
      "outputs": [
        {
          "output_type": "stream",
          "text": [
            "/usr/local/lib/python3.6/dist-packages/statsmodels/tools/_testing.py:19: FutureWarning: pandas.util.testing is deprecated. Use the functions in the public API at pandas.testing instead.\n",
            "  import pandas.util.testing as tm\n"
          ],
          "name": "stderr"
        }
      ]
    },
    {
      "cell_type": "markdown",
      "metadata": {
        "id": "rhfbnuIAn_tF",
        "colab_type": "text"
      },
      "source": [
        "###Importar csv de Google Drive"
      ]
    },
    {
      "cell_type": "code",
      "metadata": {
        "id": "k96B2IzkoH-r",
        "colab_type": "code",
        "colab": {
          "base_uri": "https://localhost:8080/",
          "height": 122
        },
        "outputId": "c3b6ae97-c95f-4243-e558-6291319ec46f"
      },
      "source": [
        "from google.colab import drive\n",
        "drive.mount('/content/drive')"
      ],
      "execution_count": null,
      "outputs": [
        {
          "output_type": "stream",
          "text": [
            "Go to this URL in a browser: https://accounts.google.com/o/oauth2/auth?client_id=947318989803-6bn6qk8qdgf4n4g3pfee6491hc0brc4i.apps.googleusercontent.com&redirect_uri=urn%3aietf%3awg%3aoauth%3a2.0%3aoob&scope=email%20https%3a%2f%2fwww.googleapis.com%2fauth%2fdocs.test%20https%3a%2f%2fwww.googleapis.com%2fauth%2fdrive%20https%3a%2f%2fwww.googleapis.com%2fauth%2fdrive.photos.readonly%20https%3a%2f%2fwww.googleapis.com%2fauth%2fpeopleapi.readonly&response_type=code\n",
            "\n",
            "Enter your authorization code:\n",
            "4/3wGSqDqgxxnRqxasPvCyA5UrROk0Secp0-4F3akX9SdLESFNOdh73Dc\n",
            "Mounted at /content/drive\n"
          ],
          "name": "stdout"
        }
      ]
    },
    {
      "cell_type": "code",
      "metadata": {
        "id": "fQclM7VmouL5",
        "colab_type": "code",
        "colab": {}
      },
      "source": [
        "df=pd.DataFrame\n",
        "df=pd.read_csv('/content/drive/My Drive/Deep learning/mercadeo_bancario.csv', encoding='utf-8')"
      ],
      "execution_count": null,
      "outputs": []
    },
    {
      "cell_type": "markdown",
      "metadata": {
        "id": "BOm0xgq3pIwl",
        "colab_type": "text"
      },
      "source": [
        "###Listar datos"
      ]
    },
    {
      "cell_type": "markdown",
      "metadata": {
        "id": "eEsOZ24_pWwn",
        "colab_type": "text"
      },
      "source": [
        "Visualizamos los datosque contiene la tabla"
      ]
    },
    {
      "cell_type": "code",
      "metadata": {
        "id": "wu-3d933pNbz",
        "colab_type": "code",
        "colab": {
          "base_uri": "https://localhost:8080/",
          "height": 379
        },
        "outputId": "e5503ad1-f10e-4140-b32c-be469da7d674"
      },
      "source": [
        "df.head(10)"
      ],
      "execution_count": null,
      "outputs": [
        {
          "output_type": "execute_result",
          "data": {
            "text/html": [
              "<div>\n",
              "<style scoped>\n",
              "    .dataframe tbody tr th:only-of-type {\n",
              "        vertical-align: middle;\n",
              "    }\n",
              "\n",
              "    .dataframe tbody tr th {\n",
              "        vertical-align: top;\n",
              "    }\n",
              "\n",
              "    .dataframe thead th {\n",
              "        text-align: right;\n",
              "    }\n",
              "</style>\n",
              "<table border=\"1\" class=\"dataframe\">\n",
              "  <thead>\n",
              "    <tr style=\"text-align: right;\">\n",
              "      <th></th>\n",
              "      <th>edad</th>\n",
              "      <th>trabajo</th>\n",
              "      <th>estado_civil</th>\n",
              "      <th>educacion</th>\n",
              "      <th>total_hijos</th>\n",
              "      <th>credito_sin_pago</th>\n",
              "      <th>prestamo_vivienda</th>\n",
              "      <th>prestamo_personal</th>\n",
              "      <th>valor_prestamo</th>\n",
              "      <th>tarjetas_credito</th>\n",
              "      <th>contacto</th>\n",
              "      <th>mes</th>\n",
              "      <th>dia_semana</th>\n",
              "      <th>duracion_ultimo_contacto</th>\n",
              "      <th>dias_ultimo_contacto</th>\n",
              "      <th>anterior_contacto</th>\n",
              "      <th>numero_empleados</th>\n",
              "      <th>si_no</th>\n",
              "    </tr>\n",
              "  </thead>\n",
              "  <tbody>\n",
              "    <tr>\n",
              "      <th>0</th>\n",
              "      <td>44</td>\n",
              "      <td>blue-collar</td>\n",
              "      <td>married</td>\n",
              "      <td>preschool</td>\n",
              "      <td>7</td>\n",
              "      <td>unknown</td>\n",
              "      <td>yes</td>\n",
              "      <td>no</td>\n",
              "      <td>268017</td>\n",
              "      <td>5</td>\n",
              "      <td>cellular</td>\n",
              "      <td>aug</td>\n",
              "      <td>thu</td>\n",
              "      <td>210</td>\n",
              "      <td>43</td>\n",
              "      <td>0</td>\n",
              "      <td>88</td>\n",
              "      <td>0</td>\n",
              "    </tr>\n",
              "    <tr>\n",
              "      <th>1</th>\n",
              "      <td>53</td>\n",
              "      <td>technician</td>\n",
              "      <td>married</td>\n",
              "      <td>unknown</td>\n",
              "      <td>1</td>\n",
              "      <td>no</td>\n",
              "      <td>no</td>\n",
              "      <td>no</td>\n",
              "      <td>0</td>\n",
              "      <td>0</td>\n",
              "      <td>cellular</td>\n",
              "      <td>nov</td>\n",
              "      <td>fri</td>\n",
              "      <td>138</td>\n",
              "      <td>0</td>\n",
              "      <td>0</td>\n",
              "      <td>14</td>\n",
              "      <td>0</td>\n",
              "    </tr>\n",
              "    <tr>\n",
              "      <th>2</th>\n",
              "      <td>28</td>\n",
              "      <td>management</td>\n",
              "      <td>single</td>\n",
              "      <td>university.degree</td>\n",
              "      <td>3</td>\n",
              "      <td>no</td>\n",
              "      <td>yes</td>\n",
              "      <td>no</td>\n",
              "      <td>308036</td>\n",
              "      <td>0</td>\n",
              "      <td>cellular</td>\n",
              "      <td>jun</td>\n",
              "      <td>thu</td>\n",
              "      <td>339</td>\n",
              "      <td>27</td>\n",
              "      <td>2</td>\n",
              "      <td>1993</td>\n",
              "      <td>1</td>\n",
              "    </tr>\n",
              "    <tr>\n",
              "      <th>3</th>\n",
              "      <td>39</td>\n",
              "      <td>services</td>\n",
              "      <td>married</td>\n",
              "      <td>Technological_school</td>\n",
              "      <td>1</td>\n",
              "      <td>no</td>\n",
              "      <td>no</td>\n",
              "      <td>no</td>\n",
              "      <td>0</td>\n",
              "      <td>4</td>\n",
              "      <td>cellular</td>\n",
              "      <td>apr</td>\n",
              "      <td>fri</td>\n",
              "      <td>185</td>\n",
              "      <td>0</td>\n",
              "      <td>0</td>\n",
              "      <td>1338</td>\n",
              "      <td>0</td>\n",
              "    </tr>\n",
              "    <tr>\n",
              "      <th>4</th>\n",
              "      <td>55</td>\n",
              "      <td>retired</td>\n",
              "      <td>married</td>\n",
              "      <td>preschool</td>\n",
              "      <td>2</td>\n",
              "      <td>no</td>\n",
              "      <td>yes</td>\n",
              "      <td>no</td>\n",
              "      <td>249888</td>\n",
              "      <td>4</td>\n",
              "      <td>cellular</td>\n",
              "      <td>aug</td>\n",
              "      <td>fri</td>\n",
              "      <td>137</td>\n",
              "      <td>2</td>\n",
              "      <td>1</td>\n",
              "      <td>1184</td>\n",
              "      <td>1</td>\n",
              "    </tr>\n",
              "    <tr>\n",
              "      <th>5</th>\n",
              "      <td>30</td>\n",
              "      <td>management</td>\n",
              "      <td>divorced</td>\n",
              "      <td>preschool</td>\n",
              "      <td>6</td>\n",
              "      <td>no</td>\n",
              "      <td>yes</td>\n",
              "      <td>no</td>\n",
              "      <td>499476</td>\n",
              "      <td>1</td>\n",
              "      <td>cellular</td>\n",
              "      <td>jul</td>\n",
              "      <td>tue</td>\n",
              "      <td>68</td>\n",
              "      <td>90</td>\n",
              "      <td>0</td>\n",
              "      <td>1553</td>\n",
              "      <td>0</td>\n",
              "    </tr>\n",
              "    <tr>\n",
              "      <th>6</th>\n",
              "      <td>37</td>\n",
              "      <td>blue-collar</td>\n",
              "      <td>married</td>\n",
              "      <td>preschool</td>\n",
              "      <td>6</td>\n",
              "      <td>no</td>\n",
              "      <td>yes</td>\n",
              "      <td>no</td>\n",
              "      <td>86520</td>\n",
              "      <td>5</td>\n",
              "      <td>cellular</td>\n",
              "      <td>may</td>\n",
              "      <td>thu</td>\n",
              "      <td>204</td>\n",
              "      <td>66</td>\n",
              "      <td>0</td>\n",
              "      <td>442</td>\n",
              "      <td>0</td>\n",
              "    </tr>\n",
              "    <tr>\n",
              "      <th>7</th>\n",
              "      <td>39</td>\n",
              "      <td>blue-collar</td>\n",
              "      <td>divorced</td>\n",
              "      <td>tecnical_school</td>\n",
              "      <td>4</td>\n",
              "      <td>no</td>\n",
              "      <td>yes</td>\n",
              "      <td>no</td>\n",
              "      <td>176081</td>\n",
              "      <td>1</td>\n",
              "      <td>cellular</td>\n",
              "      <td>may</td>\n",
              "      <td>fri</td>\n",
              "      <td>191</td>\n",
              "      <td>51</td>\n",
              "      <td>0</td>\n",
              "      <td>495</td>\n",
              "      <td>0</td>\n",
              "    </tr>\n",
              "    <tr>\n",
              "      <th>8</th>\n",
              "      <td>36</td>\n",
              "      <td>admin.</td>\n",
              "      <td>married</td>\n",
              "      <td>university.degree</td>\n",
              "      <td>6</td>\n",
              "      <td>no</td>\n",
              "      <td>no</td>\n",
              "      <td>no</td>\n",
              "      <td>0</td>\n",
              "      <td>3</td>\n",
              "      <td>cellular</td>\n",
              "      <td>jun</td>\n",
              "      <td>mon</td>\n",
              "      <td>174</td>\n",
              "      <td>0</td>\n",
              "      <td>1</td>\n",
              "      <td>1097</td>\n",
              "      <td>1</td>\n",
              "    </tr>\n",
              "    <tr>\n",
              "      <th>9</th>\n",
              "      <td>27</td>\n",
              "      <td>blue-collar</td>\n",
              "      <td>single</td>\n",
              "      <td>preschool</td>\n",
              "      <td>3</td>\n",
              "      <td>no</td>\n",
              "      <td>yes</td>\n",
              "      <td>no</td>\n",
              "      <td>323709</td>\n",
              "      <td>1</td>\n",
              "      <td>cellular</td>\n",
              "      <td>apr</td>\n",
              "      <td>thu</td>\n",
              "      <td>191</td>\n",
              "      <td>33</td>\n",
              "      <td>1</td>\n",
              "      <td>414</td>\n",
              "      <td>0</td>\n",
              "    </tr>\n",
              "  </tbody>\n",
              "</table>\n",
              "</div>"
            ],
            "text/plain": [
              "   edad      trabajo estado_civil   ... anterior_contacto  numero_empleados si_no\n",
              "0    44  blue-collar       married  ...                 0                88     0\n",
              "1    53   technician       married  ...                 0                14     0\n",
              "2    28   management        single  ...                 2              1993     1\n",
              "3    39     services       married  ...                 0              1338     0\n",
              "4    55      retired       married  ...                 1              1184     1\n",
              "5    30   management      divorced  ...                 0              1553     0\n",
              "6    37  blue-collar       married  ...                 0               442     0\n",
              "7    39  blue-collar      divorced  ...                 0               495     0\n",
              "8    36       admin.       married  ...                 1              1097     1\n",
              "9    27  blue-collar        single  ...                 1               414     0\n",
              "\n",
              "[10 rows x 18 columns]"
            ]
          },
          "metadata": {
            "tags": []
          },
          "execution_count": 4
        }
      ]
    },
    {
      "cell_type": "markdown",
      "metadata": {
        "id": "irQFLrAEpjUR",
        "colab_type": "text"
      },
      "source": [
        "Podemos observar que existen datos en forma de texto, para poder analizarlos vamor a convertirlos a datos numéricos"
      ]
    },
    {
      "cell_type": "markdown",
      "metadata": {
        "id": "MC73QXlIqJEl",
        "colab_type": "text"
      },
      "source": [
        "###Conversión de datos numéricos"
      ]
    },
    {
      "cell_type": "markdown",
      "metadata": {
        "id": "m2-b8YIZqNfl",
        "colab_type": "text"
      },
      "source": [
        "Trabajo: \n",
        "*   Unknown = 0\n",
        "*   Blue-collar = 1\n",
        "*   Technician = 2\n",
        "*   Services = 3\n",
        "*   Retired = 4\n",
        "*   Admin = 5\n",
        "*   Housemaid = 6\n",
        "*   Unemployed = 7\n",
        "*   Entrepreneur = 8\n",
        "*   Managment = 9\n",
        "---\n",
        "Estado_civil: \n",
        "*   unknown = 0\n",
        "*   Divorced = 1\n",
        "*   Married = 2\n",
        "*   Single = 3\n",
        "---\n",
        "Educación: \n",
        "*   Unknown = 0\n",
        "*   Preschool = 1\n",
        "*   University.degree = 2\n",
        "*   Technological_school = 3\n",
        "*   tecnical_school = 4\n",
        "*   professional.course = 5\n",
        "*   primary_school = 6\n",
        "*   Illiterate = 7\n",
        "---\n",
        "Categorías de si/no:\n",
        "*   Unknown = 0 \n",
        "*   No = 1\n",
        "*   Si = 2\n",
        "---\n",
        "Contacto: \n",
        "*   Celular = 0\n",
        "*   Teléfono = 1\n",
        "---\n",
        "Mes: \n",
        "*   En orden: JAN=0, FEB=1, MAR=2, etc\n",
        "---\n",
        "Dia_de_la_semana: \n",
        "*   En orden -> MON = 0, TUE=1, WED=2, etc\n",
        "---\n",
        "\n",
        "\n",
        "\n",
        "\n",
        "\n",
        "\n",
        "\n",
        "\n",
        "\n",
        "\n",
        "\n",
        "\n",
        "\n",
        "\n",
        "\n",
        "\n",
        "\n",
        "\n",
        "\n",
        "\n",
        "\n",
        "\n",
        "\n",
        "\n",
        "\n",
        "\n",
        "\n",
        "\n",
        "\n"
      ]
    },
    {
      "cell_type": "markdown",
      "metadata": {
        "id": "2EqXHXb_roaX",
        "colab_type": "text"
      },
      "source": [
        "Reemplazamos los valores de trabajo y listamos la tabla, PANDAS cuenta con una característica llamada *replace*"
      ]
    },
    {
      "cell_type": "code",
      "metadata": {
        "id": "vE6tjpNi1rJi",
        "colab_type": "code",
        "colab": {}
      },
      "source": [
        "#Pandas tiene una característica llamada **replace** \n",
        "df.trabajo.replace({\"blue-collar\":1,\"technician\":2,\"services\":3,\"retired\":4,\n",
        "                   \"admin.\":5,\"housemaid\":6,\"unemployed\":7,\"entrepreneur\":8,\"management\":9}, inplace=True)\n",
        "df.replace({\"preschool\":1,\"university.degree\":2,\"Technological_school\":3,\"tecnical_school\":4,\"professional.course\":5,\"primary_school\":6,\"illiterate\":7},inplace=True)\n",
        "df.replace({\"no\":1,\"yes\":2,\"cellular\":0,\"telephone\":1,\"divorced\":1,\"married\":2,\n",
        "            \"unknown\":0,\"single\":3,\"jan\":0,\"feb\":1,\"mar\":2,\"apr\":3,\"may\":4,\"jun\":5,\"jul\":6,\n",
        "            \"aug\":7,\"sept\":8,\"oct\":9,\"nov\":10,\"dec\":11,\"mon\":0,\"tue\":1,\"wed\":2,\"thu\":3,\"fri\":4},inplace=True)"
      ],
      "execution_count": null,
      "outputs": []
    },
    {
      "cell_type": "code",
      "metadata": {
        "id": "L2YKN8jU32ER",
        "colab_type": "code",
        "colab": {
          "base_uri": "https://localhost:8080/",
          "height": 999
        },
        "outputId": "00f5e46f-a805-47c3-ae69-b401e8e496ea"
      },
      "source": [
        "df.head(30)"
      ],
      "execution_count": null,
      "outputs": [
        {
          "output_type": "execute_result",
          "data": {
            "text/html": [
              "<div>\n",
              "<style scoped>\n",
              "    .dataframe tbody tr th:only-of-type {\n",
              "        vertical-align: middle;\n",
              "    }\n",
              "\n",
              "    .dataframe tbody tr th {\n",
              "        vertical-align: top;\n",
              "    }\n",
              "\n",
              "    .dataframe thead th {\n",
              "        text-align: right;\n",
              "    }\n",
              "</style>\n",
              "<table border=\"1\" class=\"dataframe\">\n",
              "  <thead>\n",
              "    <tr style=\"text-align: right;\">\n",
              "      <th></th>\n",
              "      <th>edad</th>\n",
              "      <th>trabajo</th>\n",
              "      <th>estado_civil</th>\n",
              "      <th>educacion</th>\n",
              "      <th>total_hijos</th>\n",
              "      <th>credito_sin_pago</th>\n",
              "      <th>prestamo_vivienda</th>\n",
              "      <th>prestamo_personal</th>\n",
              "      <th>valor_prestamo</th>\n",
              "      <th>tarjetas_credito</th>\n",
              "      <th>contacto</th>\n",
              "      <th>mes</th>\n",
              "      <th>dia_semana</th>\n",
              "      <th>duracion_ultimo_contacto</th>\n",
              "      <th>dias_ultimo_contacto</th>\n",
              "      <th>anterior_contacto</th>\n",
              "      <th>numero_empleados</th>\n",
              "      <th>si_no</th>\n",
              "    </tr>\n",
              "  </thead>\n",
              "  <tbody>\n",
              "    <tr>\n",
              "      <th>0</th>\n",
              "      <td>44</td>\n",
              "      <td>1</td>\n",
              "      <td>2</td>\n",
              "      <td>1</td>\n",
              "      <td>7</td>\n",
              "      <td>0</td>\n",
              "      <td>2</td>\n",
              "      <td>1</td>\n",
              "      <td>268017</td>\n",
              "      <td>5</td>\n",
              "      <td>0</td>\n",
              "      <td>7</td>\n",
              "      <td>3</td>\n",
              "      <td>210</td>\n",
              "      <td>43</td>\n",
              "      <td>0</td>\n",
              "      <td>88</td>\n",
              "      <td>0</td>\n",
              "    </tr>\n",
              "    <tr>\n",
              "      <th>1</th>\n",
              "      <td>53</td>\n",
              "      <td>2</td>\n",
              "      <td>2</td>\n",
              "      <td>0</td>\n",
              "      <td>1</td>\n",
              "      <td>1</td>\n",
              "      <td>1</td>\n",
              "      <td>1</td>\n",
              "      <td>0</td>\n",
              "      <td>0</td>\n",
              "      <td>0</td>\n",
              "      <td>10</td>\n",
              "      <td>4</td>\n",
              "      <td>138</td>\n",
              "      <td>0</td>\n",
              "      <td>0</td>\n",
              "      <td>14</td>\n",
              "      <td>0</td>\n",
              "    </tr>\n",
              "    <tr>\n",
              "      <th>2</th>\n",
              "      <td>28</td>\n",
              "      <td>9</td>\n",
              "      <td>3</td>\n",
              "      <td>2</td>\n",
              "      <td>3</td>\n",
              "      <td>1</td>\n",
              "      <td>2</td>\n",
              "      <td>1</td>\n",
              "      <td>308036</td>\n",
              "      <td>0</td>\n",
              "      <td>0</td>\n",
              "      <td>5</td>\n",
              "      <td>3</td>\n",
              "      <td>339</td>\n",
              "      <td>27</td>\n",
              "      <td>2</td>\n",
              "      <td>1993</td>\n",
              "      <td>1</td>\n",
              "    </tr>\n",
              "    <tr>\n",
              "      <th>3</th>\n",
              "      <td>39</td>\n",
              "      <td>3</td>\n",
              "      <td>2</td>\n",
              "      <td>3</td>\n",
              "      <td>1</td>\n",
              "      <td>1</td>\n",
              "      <td>1</td>\n",
              "      <td>1</td>\n",
              "      <td>0</td>\n",
              "      <td>4</td>\n",
              "      <td>0</td>\n",
              "      <td>3</td>\n",
              "      <td>4</td>\n",
              "      <td>185</td>\n",
              "      <td>0</td>\n",
              "      <td>0</td>\n",
              "      <td>1338</td>\n",
              "      <td>0</td>\n",
              "    </tr>\n",
              "    <tr>\n",
              "      <th>4</th>\n",
              "      <td>55</td>\n",
              "      <td>4</td>\n",
              "      <td>2</td>\n",
              "      <td>1</td>\n",
              "      <td>2</td>\n",
              "      <td>1</td>\n",
              "      <td>2</td>\n",
              "      <td>1</td>\n",
              "      <td>249888</td>\n",
              "      <td>4</td>\n",
              "      <td>0</td>\n",
              "      <td>7</td>\n",
              "      <td>4</td>\n",
              "      <td>137</td>\n",
              "      <td>2</td>\n",
              "      <td>1</td>\n",
              "      <td>1184</td>\n",
              "      <td>1</td>\n",
              "    </tr>\n",
              "    <tr>\n",
              "      <th>5</th>\n",
              "      <td>30</td>\n",
              "      <td>9</td>\n",
              "      <td>1</td>\n",
              "      <td>1</td>\n",
              "      <td>6</td>\n",
              "      <td>1</td>\n",
              "      <td>2</td>\n",
              "      <td>1</td>\n",
              "      <td>499476</td>\n",
              "      <td>1</td>\n",
              "      <td>0</td>\n",
              "      <td>6</td>\n",
              "      <td>1</td>\n",
              "      <td>68</td>\n",
              "      <td>90</td>\n",
              "      <td>0</td>\n",
              "      <td>1553</td>\n",
              "      <td>0</td>\n",
              "    </tr>\n",
              "    <tr>\n",
              "      <th>6</th>\n",
              "      <td>37</td>\n",
              "      <td>1</td>\n",
              "      <td>2</td>\n",
              "      <td>1</td>\n",
              "      <td>6</td>\n",
              "      <td>1</td>\n",
              "      <td>2</td>\n",
              "      <td>1</td>\n",
              "      <td>86520</td>\n",
              "      <td>5</td>\n",
              "      <td>0</td>\n",
              "      <td>4</td>\n",
              "      <td>3</td>\n",
              "      <td>204</td>\n",
              "      <td>66</td>\n",
              "      <td>0</td>\n",
              "      <td>442</td>\n",
              "      <td>0</td>\n",
              "    </tr>\n",
              "    <tr>\n",
              "      <th>7</th>\n",
              "      <td>39</td>\n",
              "      <td>1</td>\n",
              "      <td>1</td>\n",
              "      <td>4</td>\n",
              "      <td>4</td>\n",
              "      <td>1</td>\n",
              "      <td>2</td>\n",
              "      <td>1</td>\n",
              "      <td>176081</td>\n",
              "      <td>1</td>\n",
              "      <td>0</td>\n",
              "      <td>4</td>\n",
              "      <td>4</td>\n",
              "      <td>191</td>\n",
              "      <td>51</td>\n",
              "      <td>0</td>\n",
              "      <td>495</td>\n",
              "      <td>0</td>\n",
              "    </tr>\n",
              "    <tr>\n",
              "      <th>8</th>\n",
              "      <td>36</td>\n",
              "      <td>5</td>\n",
              "      <td>2</td>\n",
              "      <td>2</td>\n",
              "      <td>6</td>\n",
              "      <td>1</td>\n",
              "      <td>1</td>\n",
              "      <td>1</td>\n",
              "      <td>0</td>\n",
              "      <td>3</td>\n",
              "      <td>0</td>\n",
              "      <td>5</td>\n",
              "      <td>0</td>\n",
              "      <td>174</td>\n",
              "      <td>0</td>\n",
              "      <td>1</td>\n",
              "      <td>1097</td>\n",
              "      <td>1</td>\n",
              "    </tr>\n",
              "    <tr>\n",
              "      <th>9</th>\n",
              "      <td>27</td>\n",
              "      <td>1</td>\n",
              "      <td>3</td>\n",
              "      <td>1</td>\n",
              "      <td>3</td>\n",
              "      <td>1</td>\n",
              "      <td>2</td>\n",
              "      <td>1</td>\n",
              "      <td>323709</td>\n",
              "      <td>1</td>\n",
              "      <td>0</td>\n",
              "      <td>3</td>\n",
              "      <td>3</td>\n",
              "      <td>191</td>\n",
              "      <td>33</td>\n",
              "      <td>1</td>\n",
              "      <td>414</td>\n",
              "      <td>0</td>\n",
              "    </tr>\n",
              "    <tr>\n",
              "      <th>10</th>\n",
              "      <td>34</td>\n",
              "      <td>6</td>\n",
              "      <td>3</td>\n",
              "      <td>2</td>\n",
              "      <td>8</td>\n",
              "      <td>1</td>\n",
              "      <td>1</td>\n",
              "      <td>1</td>\n",
              "      <td>0</td>\n",
              "      <td>5</td>\n",
              "      <td>1</td>\n",
              "      <td>4</td>\n",
              "      <td>4</td>\n",
              "      <td>62</td>\n",
              "      <td>0</td>\n",
              "      <td>0</td>\n",
              "      <td>1600</td>\n",
              "      <td>0</td>\n",
              "    </tr>\n",
              "    <tr>\n",
              "      <th>11</th>\n",
              "      <td>41</td>\n",
              "      <td>9</td>\n",
              "      <td>2</td>\n",
              "      <td>2</td>\n",
              "      <td>2</td>\n",
              "      <td>1</td>\n",
              "      <td>2</td>\n",
              "      <td>1</td>\n",
              "      <td>429832</td>\n",
              "      <td>5</td>\n",
              "      <td>0</td>\n",
              "      <td>7</td>\n",
              "      <td>3</td>\n",
              "      <td>789</td>\n",
              "      <td>14</td>\n",
              "      <td>0</td>\n",
              "      <td>1630</td>\n",
              "      <td>0</td>\n",
              "    </tr>\n",
              "    <tr>\n",
              "      <th>12</th>\n",
              "      <td>55</td>\n",
              "      <td>9</td>\n",
              "      <td>2</td>\n",
              "      <td>2</td>\n",
              "      <td>7</td>\n",
              "      <td>1</td>\n",
              "      <td>1</td>\n",
              "      <td>1</td>\n",
              "      <td>0</td>\n",
              "      <td>4</td>\n",
              "      <td>0</td>\n",
              "      <td>7</td>\n",
              "      <td>0</td>\n",
              "      <td>372</td>\n",
              "      <td>0</td>\n",
              "      <td>0</td>\n",
              "      <td>1515</td>\n",
              "      <td>1</td>\n",
              "    </tr>\n",
              "    <tr>\n",
              "      <th>13</th>\n",
              "      <td>33</td>\n",
              "      <td>3</td>\n",
              "      <td>1</td>\n",
              "      <td>3</td>\n",
              "      <td>6</td>\n",
              "      <td>1</td>\n",
              "      <td>2</td>\n",
              "      <td>1</td>\n",
              "      <td>337531</td>\n",
              "      <td>1</td>\n",
              "      <td>0</td>\n",
              "      <td>4</td>\n",
              "      <td>1</td>\n",
              "      <td>75</td>\n",
              "      <td>76</td>\n",
              "      <td>0</td>\n",
              "      <td>388</td>\n",
              "      <td>0</td>\n",
              "    </tr>\n",
              "    <tr>\n",
              "      <th>14</th>\n",
              "      <td>26</td>\n",
              "      <td>5</td>\n",
              "      <td>2</td>\n",
              "      <td>3</td>\n",
              "      <td>4</td>\n",
              "      <td>1</td>\n",
              "      <td>1</td>\n",
              "      <td>2</td>\n",
              "      <td>93561</td>\n",
              "      <td>5</td>\n",
              "      <td>1</td>\n",
              "      <td>5</td>\n",
              "      <td>0</td>\n",
              "      <td>1021</td>\n",
              "      <td>23</td>\n",
              "      <td>0</td>\n",
              "      <td>858</td>\n",
              "      <td>0</td>\n",
              "    </tr>\n",
              "    <tr>\n",
              "      <th>15</th>\n",
              "      <td>52</td>\n",
              "      <td>3</td>\n",
              "      <td>2</td>\n",
              "      <td>3</td>\n",
              "      <td>3</td>\n",
              "      <td>0</td>\n",
              "      <td>2</td>\n",
              "      <td>1</td>\n",
              "      <td>365643</td>\n",
              "      <td>2</td>\n",
              "      <td>0</td>\n",
              "      <td>6</td>\n",
              "      <td>3</td>\n",
              "      <td>117</td>\n",
              "      <td>54</td>\n",
              "      <td>0</td>\n",
              "      <td>1342</td>\n",
              "      <td>0</td>\n",
              "    </tr>\n",
              "    <tr>\n",
              "      <th>16</th>\n",
              "      <td>35</td>\n",
              "      <td>3</td>\n",
              "      <td>2</td>\n",
              "      <td>3</td>\n",
              "      <td>8</td>\n",
              "      <td>1</td>\n",
              "      <td>1</td>\n",
              "      <td>1</td>\n",
              "      <td>0</td>\n",
              "      <td>1</td>\n",
              "      <td>0</td>\n",
              "      <td>3</td>\n",
              "      <td>3</td>\n",
              "      <td>1034</td>\n",
              "      <td>0</td>\n",
              "      <td>0</td>\n",
              "      <td>1880</td>\n",
              "      <td>1</td>\n",
              "    </tr>\n",
              "    <tr>\n",
              "      <th>17</th>\n",
              "      <td>27</td>\n",
              "      <td>5</td>\n",
              "      <td>3</td>\n",
              "      <td>2</td>\n",
              "      <td>3</td>\n",
              "      <td>1</td>\n",
              "      <td>1</td>\n",
              "      <td>1</td>\n",
              "      <td>0</td>\n",
              "      <td>2</td>\n",
              "      <td>1</td>\n",
              "      <td>9</td>\n",
              "      <td>1</td>\n",
              "      <td>540</td>\n",
              "      <td>0</td>\n",
              "      <td>0</td>\n",
              "      <td>1972</td>\n",
              "      <td>1</td>\n",
              "    </tr>\n",
              "    <tr>\n",
              "      <th>18</th>\n",
              "      <td>28</td>\n",
              "      <td>1</td>\n",
              "      <td>2</td>\n",
              "      <td>4</td>\n",
              "      <td>7</td>\n",
              "      <td>0</td>\n",
              "      <td>1</td>\n",
              "      <td>1</td>\n",
              "      <td>0</td>\n",
              "      <td>0</td>\n",
              "      <td>1</td>\n",
              "      <td>4</td>\n",
              "      <td>3</td>\n",
              "      <td>140</td>\n",
              "      <td>0</td>\n",
              "      <td>0</td>\n",
              "      <td>308</td>\n",
              "      <td>0</td>\n",
              "    </tr>\n",
              "    <tr>\n",
              "      <th>19</th>\n",
              "      <td>26</td>\n",
              "      <td>7</td>\n",
              "      <td>3</td>\n",
              "      <td>4</td>\n",
              "      <td>1</td>\n",
              "      <td>1</td>\n",
              "      <td>2</td>\n",
              "      <td>2</td>\n",
              "      <td>113637</td>\n",
              "      <td>1</td>\n",
              "      <td>0</td>\n",
              "      <td>6</td>\n",
              "      <td>0</td>\n",
              "      <td>104</td>\n",
              "      <td>28</td>\n",
              "      <td>0</td>\n",
              "      <td>286</td>\n",
              "      <td>0</td>\n",
              "    </tr>\n",
              "    <tr>\n",
              "      <th>20</th>\n",
              "      <td>41</td>\n",
              "      <td>7</td>\n",
              "      <td>2</td>\n",
              "      <td>4</td>\n",
              "      <td>2</td>\n",
              "      <td>0</td>\n",
              "      <td>2</td>\n",
              "      <td>1</td>\n",
              "      <td>123190</td>\n",
              "      <td>4</td>\n",
              "      <td>1</td>\n",
              "      <td>3</td>\n",
              "      <td>4</td>\n",
              "      <td>246</td>\n",
              "      <td>26</td>\n",
              "      <td>1</td>\n",
              "      <td>1600</td>\n",
              "      <td>0</td>\n",
              "    </tr>\n",
              "    <tr>\n",
              "      <th>21</th>\n",
              "      <td>35</td>\n",
              "      <td>1</td>\n",
              "      <td>3</td>\n",
              "      <td>0</td>\n",
              "      <td>8</td>\n",
              "      <td>1</td>\n",
              "      <td>1</td>\n",
              "      <td>2</td>\n",
              "      <td>363995</td>\n",
              "      <td>0</td>\n",
              "      <td>1</td>\n",
              "      <td>5</td>\n",
              "      <td>4</td>\n",
              "      <td>1114</td>\n",
              "      <td>21</td>\n",
              "      <td>0</td>\n",
              "      <td>20</td>\n",
              "      <td>0</td>\n",
              "    </tr>\n",
              "    <tr>\n",
              "      <th>22</th>\n",
              "      <td>40</td>\n",
              "      <td>5</td>\n",
              "      <td>2</td>\n",
              "      <td>2</td>\n",
              "      <td>0</td>\n",
              "      <td>0</td>\n",
              "      <td>2</td>\n",
              "      <td>1</td>\n",
              "      <td>449368</td>\n",
              "      <td>1</td>\n",
              "      <td>1</td>\n",
              "      <td>6</td>\n",
              "      <td>2</td>\n",
              "      <td>340</td>\n",
              "      <td>42</td>\n",
              "      <td>0</td>\n",
              "      <td>1891</td>\n",
              "      <td>0</td>\n",
              "    </tr>\n",
              "    <tr>\n",
              "      <th>23</th>\n",
              "      <td>32</td>\n",
              "      <td>2</td>\n",
              "      <td>3</td>\n",
              "      <td>5</td>\n",
              "      <td>2</td>\n",
              "      <td>1</td>\n",
              "      <td>1</td>\n",
              "      <td>1</td>\n",
              "      <td>0</td>\n",
              "      <td>1</td>\n",
              "      <td>0</td>\n",
              "      <td>6</td>\n",
              "      <td>3</td>\n",
              "      <td>35</td>\n",
              "      <td>0</td>\n",
              "      <td>0</td>\n",
              "      <td>1177</td>\n",
              "      <td>0</td>\n",
              "    </tr>\n",
              "    <tr>\n",
              "      <th>24</th>\n",
              "      <td>41</td>\n",
              "      <td>1</td>\n",
              "      <td>2</td>\n",
              "      <td>3</td>\n",
              "      <td>3</td>\n",
              "      <td>1</td>\n",
              "      <td>2</td>\n",
              "      <td>2</td>\n",
              "      <td>180508</td>\n",
              "      <td>4</td>\n",
              "      <td>0</td>\n",
              "      <td>6</td>\n",
              "      <td>3</td>\n",
              "      <td>241</td>\n",
              "      <td>21</td>\n",
              "      <td>0</td>\n",
              "      <td>14</td>\n",
              "      <td>0</td>\n",
              "    </tr>\n",
              "    <tr>\n",
              "      <th>25</th>\n",
              "      <td>34</td>\n",
              "      <td>8</td>\n",
              "      <td>3</td>\n",
              "      <td>2</td>\n",
              "      <td>1</td>\n",
              "      <td>1</td>\n",
              "      <td>2</td>\n",
              "      <td>1</td>\n",
              "      <td>321167</td>\n",
              "      <td>4</td>\n",
              "      <td>0</td>\n",
              "      <td>4</td>\n",
              "      <td>1</td>\n",
              "      <td>168</td>\n",
              "      <td>49</td>\n",
              "      <td>0</td>\n",
              "      <td>214</td>\n",
              "      <td>0</td>\n",
              "    </tr>\n",
              "    <tr>\n",
              "      <th>26</th>\n",
              "      <td>49</td>\n",
              "      <td>2</td>\n",
              "      <td>1</td>\n",
              "      <td>0</td>\n",
              "      <td>4</td>\n",
              "      <td>1</td>\n",
              "      <td>2</td>\n",
              "      <td>2</td>\n",
              "      <td>444410</td>\n",
              "      <td>5</td>\n",
              "      <td>0</td>\n",
              "      <td>9</td>\n",
              "      <td>3</td>\n",
              "      <td>81</td>\n",
              "      <td>87</td>\n",
              "      <td>0</td>\n",
              "      <td>1690</td>\n",
              "      <td>0</td>\n",
              "    </tr>\n",
              "    <tr>\n",
              "      <th>27</th>\n",
              "      <td>37</td>\n",
              "      <td>5</td>\n",
              "      <td>2</td>\n",
              "      <td>3</td>\n",
              "      <td>3</td>\n",
              "      <td>1</td>\n",
              "      <td>2</td>\n",
              "      <td>1</td>\n",
              "      <td>381297</td>\n",
              "      <td>5</td>\n",
              "      <td>0</td>\n",
              "      <td>3</td>\n",
              "      <td>3</td>\n",
              "      <td>226</td>\n",
              "      <td>15</td>\n",
              "      <td>1</td>\n",
              "      <td>1362</td>\n",
              "      <td>0</td>\n",
              "    </tr>\n",
              "    <tr>\n",
              "      <th>28</th>\n",
              "      <td>35</td>\n",
              "      <td>1</td>\n",
              "      <td>2</td>\n",
              "      <td>6</td>\n",
              "      <td>4</td>\n",
              "      <td>0</td>\n",
              "      <td>2</td>\n",
              "      <td>1</td>\n",
              "      <td>120667</td>\n",
              "      <td>5</td>\n",
              "      <td>0</td>\n",
              "      <td>4</td>\n",
              "      <td>4</td>\n",
              "      <td>746</td>\n",
              "      <td>37</td>\n",
              "      <td>0</td>\n",
              "      <td>365</td>\n",
              "      <td>0</td>\n",
              "    </tr>\n",
              "    <tr>\n",
              "      <th>29</th>\n",
              "      <td>38</td>\n",
              "      <td>1</td>\n",
              "      <td>3</td>\n",
              "      <td>1</td>\n",
              "      <td>0</td>\n",
              "      <td>0</td>\n",
              "      <td>1</td>\n",
              "      <td>1</td>\n",
              "      <td>0</td>\n",
              "      <td>3</td>\n",
              "      <td>1</td>\n",
              "      <td>6</td>\n",
              "      <td>1</td>\n",
              "      <td>41</td>\n",
              "      <td>0</td>\n",
              "      <td>0</td>\n",
              "      <td>1995</td>\n",
              "      <td>0</td>\n",
              "    </tr>\n",
              "  </tbody>\n",
              "</table>\n",
              "</div>"
            ],
            "text/plain": [
              "    edad trabajo  estado_civil   ...  anterior_contacto  numero_empleados  si_no\n",
              "0     44       1              2  ...                  0                88      0\n",
              "1     53       2              2  ...                  0                14      0\n",
              "2     28       9              3  ...                  2              1993      1\n",
              "3     39       3              2  ...                  0              1338      0\n",
              "4     55       4              2  ...                  1              1184      1\n",
              "5     30       9              1  ...                  0              1553      0\n",
              "6     37       1              2  ...                  0               442      0\n",
              "7     39       1              1  ...                  0               495      0\n",
              "8     36       5              2  ...                  1              1097      1\n",
              "9     27       1              3  ...                  1               414      0\n",
              "10    34       6              3  ...                  0              1600      0\n",
              "11    41       9              2  ...                  0              1630      0\n",
              "12    55       9              2  ...                  0              1515      1\n",
              "13    33       3              1  ...                  0               388      0\n",
              "14    26       5              2  ...                  0               858      0\n",
              "15    52       3              2  ...                  0              1342      0\n",
              "16    35       3              2  ...                  0              1880      1\n",
              "17    27       5              3  ...                  0              1972      1\n",
              "18    28       1              2  ...                  0               308      0\n",
              "19    26       7              3  ...                  0               286      0\n",
              "20    41       7              2  ...                  1              1600      0\n",
              "21    35       1              3  ...                  0                20      0\n",
              "22    40       5              2  ...                  0              1891      0\n",
              "23    32       2              3  ...                  0              1177      0\n",
              "24    41       1              2  ...                  0                14      0\n",
              "25    34       8              3  ...                  0               214      0\n",
              "26    49       2              1  ...                  0              1690      0\n",
              "27    37       5              2  ...                  1              1362      0\n",
              "28    35       1              2  ...                  0               365      0\n",
              "29    38       1              3  ...                  0              1995      0\n",
              "\n",
              "[30 rows x 18 columns]"
            ]
          },
          "metadata": {
            "tags": []
          },
          "execution_count": 6
        }
      ]
    },
    {
      "cell_type": "markdown",
      "metadata": {
        "id": "qMk1rfoWCG9d",
        "colab_type": "text"
      },
      "source": [
        "¿Existen valores nulos? "
      ]
    },
    {
      "cell_type": "code",
      "metadata": {
        "id": "rqcCJKGbCUQ8",
        "colab_type": "code",
        "colab": {
          "base_uri": "https://localhost:8080/",
          "height": 340
        },
        "outputId": "32e6150f-49b1-414b-9fdf-117794a93f7c"
      },
      "source": [
        "df.isnull().sum()"
      ],
      "execution_count": null,
      "outputs": [
        {
          "output_type": "execute_result",
          "data": {
            "text/plain": [
              "edad                        0\n",
              "trabajo                     0\n",
              "estado_civil                0\n",
              "educacion                   0\n",
              "total_hijos                 0\n",
              "credito_sin_pago            0\n",
              "prestamo_vivienda           0\n",
              "prestamo_personal           0\n",
              "valor_prestamo              0\n",
              "tarjetas_credito            0\n",
              "contacto                    0\n",
              "mes                         0\n",
              "dia_semana                  0\n",
              "duracion_ultimo_contacto    0\n",
              "dias_ultimo_contacto        0\n",
              "anterior_contacto           0\n",
              "numero_empleados            0\n",
              "si_no                       0\n",
              "dtype: int64"
            ]
          },
          "metadata": {
            "tags": []
          },
          "execution_count": 14
        }
      ]
    },
    {
      "cell_type": "markdown",
      "metadata": {
        "id": "klwflKTuJJWb",
        "colab_type": "text"
      },
      "source": [
        "##Regresión lineal"
      ]
    },
    {
      "cell_type": "markdown",
      "metadata": {
        "id": "jMULmtX4KB8a",
        "colab_type": "text"
      },
      "source": [
        "###Matriz de correlación"
      ]
    },
    {
      "cell_type": "code",
      "metadata": {
        "id": "9beudN8fJntZ",
        "colab_type": "code",
        "colab": {
          "base_uri": "https://localhost:8080/",
          "height": 405
        },
        "outputId": "c6ca6e96-991f-47f8-bc96-ab222cea808a"
      },
      "source": [
        "correlation_matrix=df.corr().round(2)\n",
        "sns.heatmap(data=correlation_matrix,annot=True)\n",
        "#fig, ax = plt.subplots(figsize=(11.7, 8.27))\n",
        "#sns.heatmap(data=correlation_matrix,annot=True).set({'figure.figsize':(11.7,8.27)})"
      ],
      "execution_count": null,
      "outputs": [
        {
          "output_type": "execute_result",
          "data": {
            "text/plain": [
              "<matplotlib.axes._subplots.AxesSubplot at 0x7fae2aa19c50>"
            ]
          },
          "metadata": {
            "tags": []
          },
          "execution_count": 15
        },
        {
          "output_type": "display_data",
          "data": {
            "image/png": "[encoded data removed]",
            "text/plain": [
              "<Figure size 432x288 with 2 Axes>"
            ]
          },
          "metadata": {
            "tags": [],
            "needs_background": "light"
          }
        }
      ]
    },
    {
      "cell_type": "markdown",
      "metadata": {
        "id": "dUFMdv7PQHWI",
        "colab_type": "text"
      },
      "source": [
        "De acuerdo con la matriz de correlación, las variables que tienen mejor correlación son valor_prestamo con prestamo_vivienda (0.65), dias_ultimo_contacto con prestamo_vivienda (0.64). En cuanto a las variables asignadas (edad, educación, préstamo_personal, número_empleados, tarjetas de crédito, si_no)La matriz de correlación indica que no existe una relación lineal entre una variable X y una variable Y; otra forma de ver esto es mirando los siguientes gráficos:"
      ]
    },
    {
      "cell_type": "markdown",
      "metadata": {
        "id": "ElFpAGXtTaJh",
        "colab_type": "text"
      },
      "source": [
        "###Gráficas de las variables asignadas"
      ]
    },
    {
      "cell_type": "markdown",
      "metadata": {
        "id": "jexzsp9UUpZK",
        "colab_type": "text"
      },
      "source": [
        "Se crea un nuevo DataSet que solo contenga las variables asignadas."
      ]
    },
    {
      "cell_type": "code",
      "metadata": {
        "id": "JsClvk9VUICJ",
        "colab_type": "code",
        "colab": {
          "base_uri": "https://localhost:8080/",
          "height": 255
        },
        "outputId": "2f3b5ffe-e225-4ef2-b5b1-cbb17188ce01"
      },
      "source": [
        "  filter_data = {\"edad\":df[\"edad\"],\"educacion\":df[\"educacion\"],\"prestamo_personal\":df[\"prestamo_personal\"],\n",
        "                \"tarjetas_credito\":df[\"tarjetas_credito\"],\"numero_empleados\":df[\"numero_empleados\"]}\n",
        "filter_dataset = pd.DataFrame(data=filter_data)\n",
        "print(filter_dataset)"
      ],
      "execution_count": null,
      "outputs": [
        {
          "output_type": "stream",
          "text": [
            "       edad  educacion  prestamo_personal  tarjetas_credito  numero_empleados\n",
            "0        44          1                  1                 5                88\n",
            "1        53          0                  1                 0                14\n",
            "2        28          2                  1                 0              1993\n",
            "3        39          3                  1                 4              1338\n",
            "4        55          1                  1                 4              1184\n",
            "...     ...        ...                ...               ...               ...\n",
            "41183    59          3                  2                 0               664\n",
            "41184    31          1                  1                 4               736\n",
            "41185    42          2                  2                 3                43\n",
            "41186    48          5                  2                 4              1068\n",
            "41187    25          3                  1                 3              1979\n",
            "\n",
            "[41188 rows x 5 columns]\n"
          ],
          "name": "stdout"
        }
      ]
    },
    {
      "cell_type": "markdown",
      "metadata": {
        "id": "x5bfyZa8Uw12",
        "colab_type": "text"
      },
      "source": [
        "Gráfica de las variables"
      ]
    },
    {
      "cell_type": "code",
      "metadata": {
        "id": "XcoOjX72U2w-",
        "colab_type": "code",
        "colab": {
          "base_uri": "https://localhost:8080/",
          "height": 725
        },
        "outputId": "31d18558-f0bd-4cb4-f2a0-d75389fb329b"
      },
      "source": [
        "sns.set(style='whitegrid', context='notebook')\n",
        "features_plot = filter_dataset.columns\n",
        "sns.pairplot(filter_dataset[features_plot], height=2.0);\n",
        "plt.tight_layout()\n",
        "plt.show()"
      ],
      "execution_count": null,
      "outputs": [
        {
          "output_type": "display_data",
          "data": {
            "image/png": "[encoded data removed]",
            "text/plain": [
              "<Figure size 720x720 with 30 Axes>"
            ]
          },
          "metadata": {
            "tags": []
          }
        }
      ]
    },
    {
      "cell_type": "markdown",
      "metadata": {
        "id": "ut3WApzrVP49",
        "colab_type": "text"
      },
      "source": [
        "Lo que se evidencia en los gráficos es la pobre correlación que existe entre los datos. A continuación se realizaron algunas de las gráficas para evidenciar la precisión de ellas. "
      ]
    },
    {
      "cell_type": "code",
      "metadata": {
        "id": "e4DrLvl8V4BQ",
        "colab_type": "code",
        "colab": {}
      },
      "source": [
        "X = pd.DataFrame(np.c_[filter_dataset['edad']], columns=['edad'])\n",
        "Y = df['educacion']"
      ],
      "execution_count": null,
      "outputs": []
    },
    {
      "cell_type": "code",
      "metadata": {
        "id": "WwJKHpyvWs4a",
        "colab_type": "code",
        "colab": {
          "base_uri": "https://localhost:8080/",
          "height": 51
        },
        "outputId": "f3cd5fa3-a044-4127-da02-9103dafbb42f"
      },
      "source": [
        "from sklearn.model_selection import train_test_split\n",
        "\n",
        "X_train, X_test, Y_train, Y_test = train_test_split(X, Y, test_size = 0.2, random_state=5)\n",
        "print(\"x80%: \"+str(X_train.shape) +\", x20%: \"+str(X_test.shape))\n",
        "print(\"y80%: \"+str(Y_train.shape) +\", y20%: \"+str(Y_test.shape))"
      ],
      "execution_count": null,
      "outputs": [
        {
          "output_type": "stream",
          "text": [
            "x80%: (32950, 1), x20%: (8238, 1)\n",
            "y80%: (32950,), y20%: (8238,)\n"
          ],
          "name": "stdout"
        }
      ]
    },
    {
      "cell_type": "code",
      "metadata": {
        "id": "eDo8OcH-W0R3",
        "colab_type": "code",
        "colab": {
          "base_uri": "https://localhost:8080/",
          "height": 34
        },
        "outputId": "6e7e3dfa-8583-4f10-f810-1f7e67ba073b"
      },
      "source": [
        "from sklearn.linear_model import LinearRegression\n",
        "from sklearn.metrics import mean_squared_error\n",
        "\n",
        "lin_model = LinearRegression()\n",
        "lin_model.fit(X_train, Y_train)"
      ],
      "execution_count": null,
      "outputs": [
        {
          "output_type": "execute_result",
          "data": {
            "text/plain": [
              "LinearRegression(copy_X=True, fit_intercept=True, n_jobs=None, normalize=False)"
            ]
          },
          "metadata": {
            "tags": []
          },
          "execution_count": 30
        }
      ]
    },
    {
      "cell_type": "code",
      "metadata": {
        "id": "lmjVtCx8W3HL",
        "colab_type": "code",
        "colab": {
          "base_uri": "https://localhost:8080/",
          "height": 352
        },
        "outputId": "4c68151a-a429-42df-e277-efdfc5135d24"
      },
      "source": [
        "Y_pred = lin_model.predict(X_test)\n",
        "plt.scatter(X_test['edad'], Y_test)\n",
        "plt.plot(X_test, Y_pred, color='red', linewidth=3)\n",
        "plt.title('Regresión Lineal Multipla')\n",
        "plt.xlabel('Edad')\n",
        "plt.ylabel('Educación')\n",
        "plt.show()\n",
        "print('\\nPRECISIÓN DEL MODELO REGRESIÓN LINEAL MULTIPLA')\n",
        "print(lin_model.score(X_train, Y_train))"
      ],
      "execution_count": null,
      "outputs": [
        {
          "output_type": "display_data",
          "data": {
            "image/png": "[encoded data removed]",
            "text/plain": [
              "<Figure size 432x288 with 1 Axes>"
            ]
          },
          "metadata": {
            "tags": []
          }
        },
        {
          "output_type": "stream",
          "text": [
            "\n",
            "PRECISIÓN DEL MODELO REGRESIÓN LINEAL MULTIPLA\n",
            "0.012482481388805922\n"
          ],
          "name": "stdout"
        }
      ]
    },
    {
      "cell_type": "markdown",
      "metadata": {
        "id": "eG5SnXuiXicq",
        "colab_type": "text"
      },
      "source": [
        "###Si se toman todas las variables para el entrenamiento ¿Qué sucede?"
      ]
    },
    {
      "cell_type": "code",
      "metadata": {
        "id": "1SJc-aurXm__",
        "colab_type": "code",
        "colab": {
          "base_uri": "https://localhost:8080/",
          "height": 51
        },
        "outputId": "7ee26cef-b66d-43af-9eb5-c0c1cc0b0727"
      },
      "source": [
        "from sklearn.preprocessing import StandardScaler\n",
        "scalar = StandardScaler()\n",
        "y = filter_dataset.loc[:,'edad'] \n",
        "X = filter_dataset.drop(['edad'], axis=1)       #tomaremos todos los columnas para entrenar\n",
        "X_train, X_test, y_train, y_test = train_test_split(X, y, test_size=0.2)\n",
        "print(\"TRAIN--> X: {} - Y: {}\".format(X_train.shape,y_train.shape))\n",
        "print(\"TEST--> X: {} - Y: {}\".format(X_test.shape,y_test.shape))"
      ],
      "execution_count": null,
      "outputs": [
        {
          "output_type": "stream",
          "text": [
            "TRAIN--> X: (32950, 4) - Y: (32950,)\n",
            "TEST--> X: (8238, 4) - Y: (8238,)\n"
          ],
          "name": "stdout"
        }
      ]
    },
    {
      "cell_type": "code",
      "metadata": {
        "id": "NcYy9PBhYGVo",
        "colab_type": "code",
        "colab": {
          "base_uri": "https://localhost:8080/",
          "height": 285
        },
        "outputId": "f09027b6-256c-449c-8776-eac28e993f3d"
      },
      "source": [
        "from sklearn.linear_model import LinearRegression\n",
        "regressor = LinearRegression()\n",
        "#entrenamos\n",
        "regressor.fit(X_train, y_train)\n",
        "#predecimos\n",
        "pred = regressor.predict(X_test)\n",
        "\n",
        "#visualizar la predicción en los datos de testeo\n",
        "plt.scatter(y_test, pred)\n",
        "plt.plot([y.min(), y.max()], [y.min(), y.max()], c='r', lw=2)\n",
        "plt.show()\n",
        "print(\"Precisión del modelo: \"+str(regressor.score(X_test, y_test)))"
      ],
      "execution_count": null,
      "outputs": [
        {
          "output_type": "display_data",
          "data": {
            "image/png": "[encoded data removed]",
            "text/plain": [
              "<Figure size 432x288 with 1 Axes>"
            ]
          },
          "metadata": {
            "tags": []
          }
        },
        {
          "output_type": "stream",
          "text": [
            "Precisión del modelo: 0.009424153557733073\n"
          ],
          "name": "stdout"
        }
      ]
    },
    {
      "cell_type": "markdown",
      "metadata": {
        "id": "YInL2A6xhWHC",
        "colab_type": "text"
      },
      "source": [
        "###Calculando la precisión de la regresión lineal"
      ]
    },
    {
      "cell_type": "markdown",
      "metadata": {
        "id": "RXBuljI6htZl",
        "colab_type": "text"
      },
      "source": [
        "Para la evaluación de precisión de un modelo se utiliza: \n",
        "*   RSE la cual es la cantidad media de la cual la respuesta se desviará de la recta de regresión. Un valor menor indica un mejor ajuste.\n",
        "*   R^2 mide la variabilidad \n",
        "\n"
      ]
    },
    {
      "cell_type": "code",
      "metadata": {
        "id": "XlUG0DnOha3N",
        "colab_type": "code",
        "colab": {
          "base_uri": "https://localhost:8080/",
          "height": 187
        },
        "outputId": "67e93c7a-46fd-4c5e-bb5a-c5382df9cc3a"
      },
      "source": [
        "from sklearn.metrics import mean_squared_error\n",
        "from sklearn.metrics import r2_score\n",
        "# evaluación del modelo para el conjunto de entrenamiento\n",
        "y_train_predict = regressor.predict(X_train)\n",
        "rmse = (np.sqrt(mean_squared_error(Y_train, y_train_predict)))\n",
        "r2 = r2_score(Y_train, y_train_predict)\n",
        "\n",
        "print(\"El modelo de rendimiento para el conjunto de entrenamiento.\")\n",
        "print(\"--------------------------------------\")\n",
        "print('RMSE es {}'.format(rmse))\n",
        "print('R2 resultado es {}'.format(r2))\n",
        "print(\"\\n\")\n",
        "\n",
        "# model evaluation for testing set\n",
        "y_test_predict =regressor.predict(X_test)\n",
        "rmse = (np.sqrt(mean_squared_error(Y_test, y_test_predict)))\n",
        "r2 = r2_score(Y_test, y_test_predict)\n",
        "\n",
        "print(\"El rendimiento del modelo para el conjunto de pruebas\")\n",
        "print(\"--------------------------------------\")\n",
        "print('RMSE es {}'.format(rmse))\n",
        "print('R2 resultado es {}'.format(r2))"
      ],
      "execution_count": null,
      "outputs": [
        {
          "output_type": "stream",
          "text": [
            "El modelo de rendimiento para el conjunto de entrenamiento.\n",
            "--------------------------------------\n",
            "RMSE es 37.18441285451017\n",
            "R2 resultado es -615.5430116898399\n",
            "\n",
            "\n",
            "El rendimiento del modelo para el conjunto de pruebas\n",
            "--------------------------------------\n",
            "RMSE es 37.167213326205236\n",
            "R2 resultado es -618.5587215237156\n"
          ],
          "name": "stdout"
        }
      ]
    },
    {
      "cell_type": "markdown",
      "metadata": {
        "id": "2kuiDgGqRgAx",
        "colab_type": "text"
      },
      "source": [
        "##Regresión logística"
      ]
    },
    {
      "cell_type": "code",
      "metadata": {
        "id": "0sFY3OdBRLR1",
        "colab_type": "code",
        "colab": {
          "base_uri": "https://localhost:8080/",
          "height": 102
        },
        "outputId": "60f087e4-0382-4114-cae7-bcdc3b9ac3b0"
      },
      "source": [
        "data = {\"edad\":df[\"edad\"],\"educacion\":df[\"educacion\"],\"prestamo_personal\":df[\"prestamo_personal\"],\n",
        "        \"tarjetas_credito\":df[\"tarjetas_credito\"],\"numero_empleados\":df[\"numero_empleados\"]}\n",
        "X = pd.DataFrame(data=data)\n",
        "y = np.array(df[\"si_no\"]) \n",
        "\n",
        "x_train , x_test , y_train , y_test = train_test_split(X,y,random_state=4, test_size=0.2)\n",
        "\n",
        "#instancia de LogisticRegression\n",
        "regresion_logistica = LogisticRegression()\n",
        "#Entrenamiento\n",
        "regresion_logistica.fit(x_train,y_train)"
      ],
      "execution_count": null,
      "outputs": [
        {
          "output_type": "execute_result",
          "data": {
            "text/plain": [
              "LogisticRegression(C=1.0, class_weight=None, dual=False, fit_intercept=True,\n",
              "                   intercept_scaling=1, l1_ratio=None, max_iter=100,\n",
              "                   multi_class='auto', n_jobs=None, penalty='l2',\n",
              "                   random_state=None, solver='lbfgs', tol=0.0001, verbose=0,\n",
              "                   warm_start=False)"
            ]
          },
          "metadata": {
            "tags": []
          },
          "execution_count": 62
        }
      ]
    },
    {
      "cell_type": "code",
      "metadata": {
        "id": "ZWvi7JB-dQtm",
        "colab_type": "code",
        "colab": {
          "base_uri": "https://localhost:8080/",
          "height": 34
        },
        "outputId": "cdd5fe5f-aa33-4046-b643-467fd5753ed3"
      },
      "source": [
        "y_prediccion =regresion_logistica.predict(x_test)\n",
        "#verificar exactitud\n",
        "exactitud = metrics.accuracy_score(y_test, y_prediccion)\n",
        "print(\"exactitud porcentual = \"+str(100*exactitud))"
      ],
      "execution_count": null,
      "outputs": [
        {
          "output_type": "stream",
          "text": [
            "exactitud porcentual = 88.50449138140326\n"
          ],
          "name": "stdout"
        }
      ]
    },
    {
      "cell_type": "markdown",
      "metadata": {
        "id": "FS0QSMjmSerz",
        "colab_type": "text"
      },
      "source": [
        "###Predicciones"
      ]
    },
    {
      "cell_type": "code",
      "metadata": {
        "id": "-GTrnhphSdq0",
        "colab_type": "code",
        "colab": {
          "base_uri": "https://localhost:8080/",
          "height": 34
        },
        "outputId": "e9756b79-2488-4f0c-e3ed-f8a95590cc22"
      },
      "source": [
        "pruebaarray = np.array([[25,2,2,3,1900],[30,0,2,5,125],[80,2,2,3,5000],[30,3,1,3,150],[28,4,1,0,200],[31,5,2,5,500]])\n",
        "x_nuevo = pd.DataFrame(pruebaarray,columns=[\"edad\",\"educacion\",\"prestamo_personal\",\"tarjetas_credito\",\"numero_empleados\"])\n",
        "y_prediccion = regresion_logistica.predict(x_nuevo)\n",
        "print(y_prediccion)"
      ],
      "execution_count": null,
      "outputs": [
        {
          "output_type": "stream",
          "text": [
            "[0 0 0 0 0 0]\n"
          ],
          "name": "stdout"
        }
      ]
    },
    {
      "cell_type": "markdown",
      "metadata": {
        "id": "PrMI1NwOfsPO",
        "colab_type": "text"
      },
      "source": [
        "##Conclusiones"
      ]
    },
    {
      "cell_type": "markdown",
      "metadata": {
        "id": "iAG1hUvWfwko",
        "colab_type": "text"
      },
      "source": [
        "-Variables con mejor correlación: la única variable que tuvo una correlación medianamente buena con las demás fue la de \"educación\", ya que la precisión de esos modelos llegaba a un 1%, mientras que las demás llegaban a tener un 0% de correlación.\n",
        "\n",
        "-El modelo con mayor precisión fue la regresión logística, con una precisión del 88.5% \n",
        "\n",
        "- Al dejar la división de los datos por default (25% test - 75% entrenamiento) se presenta un error el cual indica que el total de iteraciones alcanzó el límite para lo cual, nos indica aumentar el número de iteraciones o la escala de los datos; por esta razón, modificacmos la división de los datos a un 80% entrenamiento - 20% test\n",
        "\n"
      ]
    }
  ]
}