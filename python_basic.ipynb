{
  "nbformat": 4,
  "nbformat_minor": 0,
  "metadata": {
    "colab": {
      "name": "python_basic.ipynb",
      "provenance": [],
      "collapsed_sections": [],
      "authorship_tag": "ABX9TyPeBdVTYOQBHECLm9+yz95A",
      "include_colab_link": true
    },
    "kernelspec": {
      "name": "python3",
      "display_name": "Python 3"
    }
  },
  "cells": [
    {
      "cell_type": "markdown",
      "metadata": {
        "id": "view-in-github",
        "colab_type": "text"
      },
      "source": [
        "<a href=\"https://colab.research.google.com/github/LeonardoNerydeSouza/Deep-Learning-/blob/master/python_basic.ipynb\" target=\"_parent\"><img src=\"https://colab.research.google.com/assets/colab-badge.svg\" alt=\"Open In Colab\"/></a>"
      ]
    },
    {
      "cell_type": "markdown",
      "metadata": {
        "id": "mHqNFtYQwmyh",
        "colab_type": "text"
      },
      "source": [
        "01 - 05/08/2020 : Diseñar un programa que solicite N cantidad de números y que diga al usuario el mayor, el menor y el promedio de N cantidad."
      ]
    },
    {
      "cell_type": "code",
      "metadata": {
        "id": "1m856HmewZZm",
        "colab_type": "code",
        "colab": {}
      },
      "source": [
        "resp = 'S'\n",
        "soma = cantidad = mayor = menor = 0\n",
        "while resp in 'Ss':\n",
        "    num = float(input(\"Ingrese un numero: \"))\n",
        "    soma += num\n",
        "    cantidad += 1\n",
        "    if cantidad == 1:\n",
        "        mayor = menor = num\n",
        "    elif num > mayor:\n",
        "        mayor = num\n",
        "    elif num < menor:\n",
        "        menor = num\n",
        "    resp = str(input(\"Querés ingresar otro número? [S/N] \")).upper().strip()[0]\n",
        "print(\"Ingresaste {} números y el promedio es {:.2f}, el mayor es {} y el menor es {}\".format(cantidad, (soma / cantidad), mayor, menor))\n"
      ],
      "execution_count": null,
      "outputs": []
    },
    {
      "cell_type": "markdown",
      "metadata": {
        "id": "NqM2TqUWvaRs",
        "colab_type": "text"
      },
      "source": [
        "02 - 05/08/2020 : Hacer un programa que genere un número aleatorio y que el usuario intente adivinar el número, el programa tiene que decir si está frío o caliente. "
      ]
    },
    {
      "cell_type": "code",
      "metadata": {
        "id": "Z6DI6QYVHrn1",
        "colab_type": "code",
        "colab": {}
      },
      "source": [
        "from random import randint\n",
        "rand = randint(1, 100)\n",
        "n1 = 0\n",
        "while not n1 == rand:\n",
        "    n1 = int(input(\"Ingrese un numero entre 1 y 100: \"))\n",
        "    if n1 < rand:\n",
        "        print(\"No!! Es más!! Sigue medio Frío...\")\n",
        "    elif n1 > rand:\n",
        "        print(\"No!! Es menos!! Tal vez un poco tibio...\")\n",
        "print(\"Lograste!!! Felicitaciones!\")"
      ],
      "execution_count": null,
      "outputs": []
    },
    {
      "cell_type": "markdown",
      "metadata": {
        "id": "BL6nvDK1OgLx",
        "colab_type": "text"
      },
      "source": [
        "1 - 12/08/2020 : Diseñe un programa que me genere un listado con las edades de N habitantes de una ciudad, donde la cantidad de habitantes sea un valor randomico entre 1.000 y 75.000 y la edad de cada persona también debe ser un randomico entre 1 y 100 años. Al final del programa me debe indicar cuanto es la población total y el porcentaje de cuantos son mayores de edad (>=18) y cuantos no.\n"
      ]
    },
    {
      "cell_type": "code",
      "metadata": {
        "id": "40PDuKiaOl1d",
        "colab_type": "code",
        "colab": {
          "base_uri": "https://localhost:8080/",
          "height": 51
        },
        "outputId": "9bedfc3e-7e77-4b05-d3b7-2ec3521a5182"
      },
      "source": [
        "from random import randint \n",
        "edad_habitantes = [randint (1, 100) for i in range(randint(1000, 75000))]\n",
        "menores, mayores = len(list((filter(lambda edad: edad<18 , edad_habitantes)))), len(list(filter(lambda edad: edad>=18, edad_habitantes)))\n",
        "print(f\"Población Total: {len(edad_habitantes)}\") \n",
        "print(f\"Porcentaje de menores de edad: {menores/len(edad_habitantes)*100}. Porcentaje de mayores de edad: {mayores/len(edad_habitantes)*100}\")"
      ],
      "execution_count": null,
      "outputs": [
        {
          "output_type": "stream",
          "text": [
            "Población Total: 63411\n",
            "Porcentaje de menores de edad: 16.888237056662092. Porcentaje de mayores de edad: 83.11176294333791\n"
          ],
          "name": "stdout"
        }
      ]
    },
    {
      "cell_type": "markdown",
      "metadata": {
        "id": "qDVmKIP4SxfU",
        "colab_type": "text"
      },
      "source": [
        "2 - 12/08/2020 : Diseñe un programa (máximo 5 líneas) donde 6 candidat@s se disputan la alcaldía (ayuntamiento municipal), los candidat@s de los siguientes partidos:\n",
        "\n",
        "1 – socio-democratico\n",
        "2 – Ultra-derechista\n",
        "3 – primero los ricos\n",
        "4 – Centro demoniaco\n",
        "5 – Cambio invertido\n",
        "6 – Alianza queremos más pobres\n",
        "\n",
        "Los votos de cada candidato son generados de forma aleatoria entre 1 y 25000 votos máximo, el software debe determinar quién fue el ganador. (utilicé la librería numpy)\n"
      ]
    },
    {
      "cell_type": "code",
      "metadata": {
        "colab_type": "code",
        "id": "2Qh5zk7G5Sep",
        "colab": {
          "base_uri": "https://localhost:8080/",
          "height": 34
        },
        "outputId": "29d82473-cae8-406e-ac0e-05d40ac65e8f"
      },
      "source": [
        "import numpy as np\n",
        "partidos = [\"socio-democrático\", \"ultra-derechista\", \"primero los ricos\", \"centro democrático\", \"cambio invertido\", \"alianza queremos mas pobres\"]\n",
        "vpp = np.random.randint(1, 25001, 6)\n",
        "print(f\"El ganador es el partido: '{partidos[np.argmax(vpp)]}' con {max(vpp)} votos!!\")"
      ],
      "execution_count": 2,
      "outputs": [
        {
          "output_type": "stream",
          "text": [
            "El ganador es el partido: 'cambio invertido' con 21132 votos!!\n"
          ],
          "name": "stdout"
        }
      ]
    },
    {
      "cell_type": "markdown",
      "metadata": {
        "id": "uJmWV8M_2j9z",
        "colab_type": "text"
      },
      "source": [
        "3 - 12/08/2020 : Diseñe un programa donde 6 candidat@s se presentan a la disputa para la Gobernación del departamento (estado), los candid@tos de los siguientes partidos:\n",
        "\n",
        "1 – socio-democratico\n",
        "2 – Ultra-derechista\n",
        "3 – primero los ricos\n",
        "4 – Centro demoniaco\n",
        "5 – Cambio invertido\n",
        "6 – Alianza queremos más pobres\n",
        "\n",
        "Los votos de cada candidat@s son generados de forma aleatoria entre 1 y 4500 votos máximo para cada uno de los 123 municipios del departamento, el software debe determinar quién fue ganador@.\n",
        "\n",
        "Nota: Creamos una matriz llamada votos, compuesta por 123 filas (municipios) y 6 columnas (candidat@s) y cuyo valor de cada celda sea un randomico entre 1 y 3000\n"
      ]
    },
    {
      "cell_type": "code",
      "metadata": {
        "id": "qWjQNLk56FRZ",
        "colab_type": "code",
        "colab": {}
      },
      "source": [
        "import numpy as np\n",
        "partidos = [\"socio-democrático\", \"ultra-derechista\", \"primero los ricos\", \"centro democrático\", \"cambio invertido\", \"alianza queremos mas pobres\"]\n",
        "votos = np.random.randint(1, 4500, (123, 6))\n",
        "vpp = votos.sum(axis=0)\n",
        "print(f\" El ganador es el partido '{partidos[np.argmax(vpp)]}' con {max(vpp)} votos\")"
      ],
      "execution_count": null,
      "outputs": []
    }
  ]
}