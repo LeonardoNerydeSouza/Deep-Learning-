{
  "nbformat": 4,
  "nbformat_minor": 0,
  "metadata": {
    "colab": {
      "name": "P1T5_Titanic_Arboles_Dec.ipynb",
      "provenance": [],
      "collapsed_sections": [],
      "include_colab_link": true
    },
    "kernelspec": {
      "name": "python3",
      "display_name": "Python 3"
    }
  },
  "cells": [
    {
      "cell_type": "markdown",
      "metadata": {
        "id": "view-in-github",
        "colab_type": "text"
      },
      "source": [
        "<a href=\"https://colab.research.google.com/github/LeonardoNerydeSouza/Deep-Learning-/blob/master/P1T5_Titanic_Arboles_Dec.ipynb\" target=\"_parent\"><img src=\"https://colab.research.google.com/assets/colab-badge.svg\" alt=\"Open In Colab\"/></a>"
      ]
    },
    {
      "cell_type": "markdown",
      "metadata": {
        "id": "JdAmZR7KMHAK",
        "colab_type": "text"
      },
      "source": [
        "#Titanic (con datos nulos = 0)"
      ]
    },
    {
      "cell_type": "markdown",
      "metadata": {
        "id": "yHwQ8oz3MLot",
        "colab_type": "text"
      },
      "source": [
        "##1. Cargar librerías"
      ]
    },
    {
      "cell_type": "code",
      "metadata": {
        "id": "asf_LNiCLeiD",
        "colab_type": "code",
        "colab": {}
      },
      "source": [
        "import numpy as np\n",
        "import pandas as pd\n",
        "import matplotlib.pyplot as plt\n",
        "from sklearn.model_selection import train_test_split\n",
        "from sklearn.linear_model import LinearRegression\n",
        "from sklearn.tree import DecisionTreeClassifier #clase de árboles de decisión \n",
        "from sklearn.datasets import load_iris"
      ],
      "execution_count": null,
      "outputs": []
    },
    {
      "cell_type": "markdown",
      "metadata": {
        "id": "J0XhyQeBMY5-",
        "colab_type": "text"
      },
      "source": [
        "##2. Cargar DataSet"
      ]
    },
    {
      "cell_type": "code",
      "metadata": {
        "id": "jL8i9wtaFjj1",
        "colab_type": "code",
        "colab": {
          "base_uri": "https://localhost:8080/",
          "height": 122
        },
        "outputId": "67dbc80d-2b93-4c4a-9a5c-aa6892024331"
      },
      "source": [
        "from google.colab import drive\n",
        "drive.mount('/content/drive')"
      ],
      "execution_count": null,
      "outputs": [
        {
          "output_type": "stream",
          "text": [
            "Go to this URL in a browser: https://accounts.google.com/o/oauth2/auth?client_id=947318989803-6bn6qk8qdgf4n4g3pfee6491hc0brc4i.apps.googleusercontent.com&redirect_uri=urn%3aietf%3awg%3aoauth%3a2.0%3aoob&scope=email%20https%3a%2f%2fwww.googleapis.com%2fauth%2fdocs.test%20https%3a%2f%2fwww.googleapis.com%2fauth%2fdrive%20https%3a%2f%2fwww.googleapis.com%2fauth%2fdrive.photos.readonly%20https%3a%2f%2fwww.googleapis.com%2fauth%2fpeopleapi.readonly&response_type=code\n",
            "\n",
            "Enter your authorization code:\n",
            "4/3wFx6QclydXu9LJ9qvtIgMSDllTXwGfRF0JAbd4-Tj1nmV3cIIdHqUw\n",
            "Mounted at /content/drive\n"
          ],
          "name": "stdout"
        }
      ]
    },
    {
      "cell_type": "code",
      "metadata": {
        "id": "wippiqYrFwJi",
        "colab_type": "code",
        "colab": {}
      },
      "source": [
        "df=pd.DataFrame\n",
        "df=pd.read_csv('/content/drive/My Drive/Deep learning/dataset_titanic.csv', encoding='utf-8')"
      ],
      "execution_count": null,
      "outputs": []
    },
    {
      "cell_type": "markdown",
      "metadata": {
        "id": "T-QxNXijMeta",
        "colab_type": "text"
      },
      "source": [
        "##3. Explorar datos"
      ]
    },
    {
      "cell_type": "code",
      "metadata": {
        "id": "2zUOTs2wGAAZ",
        "colab_type": "code",
        "colab": {
          "base_uri": "https://localhost:8080/",
          "height": 255
        },
        "outputId": "8bf03e41-a735-49cf-80a8-8701cadd4a99"
      },
      "source": [
        "df.head()"
      ],
      "execution_count": null,
      "outputs": [
        {
          "output_type": "execute_result",
          "data": {
            "text/html": [
              "<div>\n",
              "<style scoped>\n",
              "    .dataframe tbody tr th:only-of-type {\n",
              "        vertical-align: middle;\n",
              "    }\n",
              "\n",
              "    .dataframe tbody tr th {\n",
              "        vertical-align: top;\n",
              "    }\n",
              "\n",
              "    .dataframe thead th {\n",
              "        text-align: right;\n",
              "    }\n",
              "</style>\n",
              "<table border=\"1\" class=\"dataframe\">\n",
              "  <thead>\n",
              "    <tr style=\"text-align: right;\">\n",
              "      <th></th>\n",
              "      <th>PassengerId</th>\n",
              "      <th>Survived</th>\n",
              "      <th>Pclass</th>\n",
              "      <th>Name</th>\n",
              "      <th>Sex</th>\n",
              "      <th>Age</th>\n",
              "      <th>SibSp</th>\n",
              "      <th>Parch</th>\n",
              "      <th>Ticket</th>\n",
              "      <th>Fare</th>\n",
              "      <th>Cabin</th>\n",
              "      <th>Embarked</th>\n",
              "    </tr>\n",
              "  </thead>\n",
              "  <tbody>\n",
              "    <tr>\n",
              "      <th>0</th>\n",
              "      <td>1</td>\n",
              "      <td>0</td>\n",
              "      <td>3</td>\n",
              "      <td>Braund, Mr. Owen Harris</td>\n",
              "      <td>male</td>\n",
              "      <td>22.0</td>\n",
              "      <td>1</td>\n",
              "      <td>0</td>\n",
              "      <td>A/5 21171</td>\n",
              "      <td>7.2500</td>\n",
              "      <td>NaN</td>\n",
              "      <td>S</td>\n",
              "    </tr>\n",
              "    <tr>\n",
              "      <th>1</th>\n",
              "      <td>2</td>\n",
              "      <td>1</td>\n",
              "      <td>1</td>\n",
              "      <td>Cumings, Mrs. John Bradley (Florence Briggs Th...</td>\n",
              "      <td>female</td>\n",
              "      <td>38.0</td>\n",
              "      <td>1</td>\n",
              "      <td>0</td>\n",
              "      <td>PC 17599</td>\n",
              "      <td>71.2833</td>\n",
              "      <td>C85</td>\n",
              "      <td>C</td>\n",
              "    </tr>\n",
              "    <tr>\n",
              "      <th>2</th>\n",
              "      <td>3</td>\n",
              "      <td>1</td>\n",
              "      <td>3</td>\n",
              "      <td>Heikkinen, Miss. Laina</td>\n",
              "      <td>female</td>\n",
              "      <td>26.0</td>\n",
              "      <td>0</td>\n",
              "      <td>0</td>\n",
              "      <td>STON/O2. 3101282</td>\n",
              "      <td>7.9250</td>\n",
              "      <td>NaN</td>\n",
              "      <td>S</td>\n",
              "    </tr>\n",
              "    <tr>\n",
              "      <th>3</th>\n",
              "      <td>4</td>\n",
              "      <td>1</td>\n",
              "      <td>1</td>\n",
              "      <td>Futrelle, Mrs. Jacques Heath (Lily May Peel)</td>\n",
              "      <td>female</td>\n",
              "      <td>35.0</td>\n",
              "      <td>1</td>\n",
              "      <td>0</td>\n",
              "      <td>113803</td>\n",
              "      <td>53.1000</td>\n",
              "      <td>C123</td>\n",
              "      <td>S</td>\n",
              "    </tr>\n",
              "    <tr>\n",
              "      <th>4</th>\n",
              "      <td>5</td>\n",
              "      <td>0</td>\n",
              "      <td>3</td>\n",
              "      <td>Allen, Mr. William Henry</td>\n",
              "      <td>male</td>\n",
              "      <td>35.0</td>\n",
              "      <td>0</td>\n",
              "      <td>0</td>\n",
              "      <td>373450</td>\n",
              "      <td>8.0500</td>\n",
              "      <td>NaN</td>\n",
              "      <td>S</td>\n",
              "    </tr>\n",
              "  </tbody>\n",
              "</table>\n",
              "</div>"
            ],
            "text/plain": [
              "   PassengerId  Survived  Pclass  ...     Fare Cabin  Embarked\n",
              "0            1         0       3  ...   7.2500   NaN         S\n",
              "1            2         1       1  ...  71.2833   C85         C\n",
              "2            3         1       3  ...   7.9250   NaN         S\n",
              "3            4         1       1  ...  53.1000  C123         S\n",
              "4            5         0       3  ...   8.0500   NaN         S\n",
              "\n",
              "[5 rows x 12 columns]"
            ]
          },
          "metadata": {
            "tags": []
          },
          "execution_count": 4
        }
      ]
    },
    {
      "cell_type": "markdown",
      "metadata": {
        "id": "uwwU0aojGHDD",
        "colab_type": "text"
      },
      "source": [
        "Se debe tener en cuenta: \n",
        "*   Survived: 0=No, 1=Yes\n",
        "*   Sex: 0=male, 1=female\n",
        "*   PClass: Ticket class\n",
        "*   Sibs: número de hermanos/ conyuges\n",
        "*   Parch: número de padres/ hijos a bordo\n",
        "*   Embarked: C=Cherbourg, Q=QueenStown S=Southampton \n",
        "\n",
        "\n",
        "\n",
        "\n",
        "\n"
      ]
    },
    {
      "cell_type": "markdown",
      "metadata": {
        "id": "OhOZglknHshu",
        "colab_type": "text"
      },
      "source": [
        "###Se cuenta número de registros del dataset"
      ]
    },
    {
      "cell_type": "code",
      "metadata": {
        "id": "iTBgSJm0HxrD",
        "colab_type": "code",
        "colab": {
          "base_uri": "https://localhost:8080/",
          "height": 34
        },
        "outputId": "1069bd45-f391-40bc-f873-644a8b60c1ff"
      },
      "source": [
        "df.shape"
      ],
      "execution_count": null,
      "outputs": [
        {
          "output_type": "execute_result",
          "data": {
            "text/plain": [
              "(891, 12)"
            ]
          },
          "metadata": {
            "tags": []
          },
          "execution_count": 5
        }
      ]
    },
    {
      "cell_type": "markdown",
      "metadata": {
        "id": "clpQZJt_IJ5S",
        "colab_type": "text"
      },
      "source": [
        "El DataSet tiene 891 filas y 12 columnas; es decir, tiene 12 características y 891 registros."
      ]
    },
    {
      "cell_type": "markdown",
      "metadata": {
        "id": "eOejLdFuIcww",
        "colab_type": "text"
      },
      "source": [
        "###Se verifica si existen datos nulos"
      ]
    },
    {
      "cell_type": "code",
      "metadata": {
        "id": "YE1PMIaZIfvA",
        "colab_type": "code",
        "colab": {
          "base_uri": "https://localhost:8080/",
          "height": 238
        },
        "outputId": "39135a38-5055-47e6-80ce-445a22dd2e7e"
      },
      "source": [
        "df.isnull().sum()"
      ],
      "execution_count": null,
      "outputs": [
        {
          "output_type": "execute_result",
          "data": {
            "text/plain": [
              "PassengerId      0\n",
              "Survived         0\n",
              "Pclass           0\n",
              "Name             0\n",
              "Sex              0\n",
              "Age            177\n",
              "SibSp            0\n",
              "Parch            0\n",
              "Ticket           0\n",
              "Fare             0\n",
              "Cabin          687\n",
              "Embarked         2\n",
              "dtype: int64"
            ]
          },
          "metadata": {
            "tags": []
          },
          "execution_count": 6
        }
      ]
    },
    {
      "cell_type": "markdown",
      "metadata": {
        "id": "bSYr0YnWIluK",
        "colab_type": "text"
      },
      "source": [
        "Si existen datos nulos, en total existen 866 valores nulos. En este caso, vamos a predecir los valores nulos. Se crearán dos bloques: uno con valores nulos y el otro sin ellos y se entrenarán."
      ]
    },
    {
      "cell_type": "markdown",
      "metadata": {
        "id": "JlennkCjOJDy",
        "colab_type": "text"
      },
      "source": [
        "Se cambian los valores que están en formato texto a numérico"
      ]
    },
    {
      "cell_type": "code",
      "metadata": {
        "id": "rd5iKNWPOMw4",
        "colab_type": "code",
        "colab": {
          "base_uri": "https://localhost:8080/",
          "height": 255
        },
        "outputId": "8ab324db-3b1a-436e-cbfe-3e767211bb4f"
      },
      "source": [
        "df.replace({\"male\":0,\"female\":1,'C':1,'Q':2,'S':3},inplace=True)\n",
        "df.head()"
      ],
      "execution_count": null,
      "outputs": [
        {
          "output_type": "execute_result",
          "data": {
            "text/html": [
              "<div>\n",
              "<style scoped>\n",
              "    .dataframe tbody tr th:only-of-type {\n",
              "        vertical-align: middle;\n",
              "    }\n",
              "\n",
              "    .dataframe tbody tr th {\n",
              "        vertical-align: top;\n",
              "    }\n",
              "\n",
              "    .dataframe thead th {\n",
              "        text-align: right;\n",
              "    }\n",
              "</style>\n",
              "<table border=\"1\" class=\"dataframe\">\n",
              "  <thead>\n",
              "    <tr style=\"text-align: right;\">\n",
              "      <th></th>\n",
              "      <th>PassengerId</th>\n",
              "      <th>Survived</th>\n",
              "      <th>Pclass</th>\n",
              "      <th>Name</th>\n",
              "      <th>Sex</th>\n",
              "      <th>Age</th>\n",
              "      <th>SibSp</th>\n",
              "      <th>Parch</th>\n",
              "      <th>Ticket</th>\n",
              "      <th>Fare</th>\n",
              "      <th>Cabin</th>\n",
              "      <th>Embarked</th>\n",
              "    </tr>\n",
              "  </thead>\n",
              "  <tbody>\n",
              "    <tr>\n",
              "      <th>0</th>\n",
              "      <td>1</td>\n",
              "      <td>0</td>\n",
              "      <td>3</td>\n",
              "      <td>Braund, Mr. Owen Harris</td>\n",
              "      <td>0</td>\n",
              "      <td>22.0</td>\n",
              "      <td>1</td>\n",
              "      <td>0</td>\n",
              "      <td>A/5 21171</td>\n",
              "      <td>7.2500</td>\n",
              "      <td>NaN</td>\n",
              "      <td>3.0</td>\n",
              "    </tr>\n",
              "    <tr>\n",
              "      <th>1</th>\n",
              "      <td>2</td>\n",
              "      <td>1</td>\n",
              "      <td>1</td>\n",
              "      <td>Cumings, Mrs. John Bradley (Florence Briggs Th...</td>\n",
              "      <td>1</td>\n",
              "      <td>38.0</td>\n",
              "      <td>1</td>\n",
              "      <td>0</td>\n",
              "      <td>PC 17599</td>\n",
              "      <td>71.2833</td>\n",
              "      <td>C85</td>\n",
              "      <td>1.0</td>\n",
              "    </tr>\n",
              "    <tr>\n",
              "      <th>2</th>\n",
              "      <td>3</td>\n",
              "      <td>1</td>\n",
              "      <td>3</td>\n",
              "      <td>Heikkinen, Miss. Laina</td>\n",
              "      <td>1</td>\n",
              "      <td>26.0</td>\n",
              "      <td>0</td>\n",
              "      <td>0</td>\n",
              "      <td>STON/O2. 3101282</td>\n",
              "      <td>7.9250</td>\n",
              "      <td>NaN</td>\n",
              "      <td>3.0</td>\n",
              "    </tr>\n",
              "    <tr>\n",
              "      <th>3</th>\n",
              "      <td>4</td>\n",
              "      <td>1</td>\n",
              "      <td>1</td>\n",
              "      <td>Futrelle, Mrs. Jacques Heath (Lily May Peel)</td>\n",
              "      <td>1</td>\n",
              "      <td>35.0</td>\n",
              "      <td>1</td>\n",
              "      <td>0</td>\n",
              "      <td>113803</td>\n",
              "      <td>53.1000</td>\n",
              "      <td>C123</td>\n",
              "      <td>3.0</td>\n",
              "    </tr>\n",
              "    <tr>\n",
              "      <th>4</th>\n",
              "      <td>5</td>\n",
              "      <td>0</td>\n",
              "      <td>3</td>\n",
              "      <td>Allen, Mr. William Henry</td>\n",
              "      <td>0</td>\n",
              "      <td>35.0</td>\n",
              "      <td>0</td>\n",
              "      <td>0</td>\n",
              "      <td>373450</td>\n",
              "      <td>8.0500</td>\n",
              "      <td>NaN</td>\n",
              "      <td>3.0</td>\n",
              "    </tr>\n",
              "  </tbody>\n",
              "</table>\n",
              "</div>"
            ],
            "text/plain": [
              "   PassengerId  Survived  Pclass  ...     Fare  Cabin  Embarked\n",
              "0            1         0       3  ...   7.2500    NaN       3.0\n",
              "1            2         1       1  ...  71.2833    C85       1.0\n",
              "2            3         1       3  ...   7.9250    NaN       3.0\n",
              "3            4         1       1  ...  53.1000   C123       3.0\n",
              "4            5         0       3  ...   8.0500    NaN       3.0\n",
              "\n",
              "[5 rows x 12 columns]"
            ]
          },
          "metadata": {
            "tags": []
          },
          "execution_count": 7
        }
      ]
    },
    {
      "cell_type": "markdown",
      "metadata": {
        "id": "2qovKa10M6X4",
        "colab_type": "text"
      },
      "source": [
        "Se crea la estructura y se entrena el modelo"
      ]
    },
    {
      "cell_type": "code",
      "metadata": {
        "id": "2bo_RbEtKPrT",
        "colab_type": "code",
        "colab": {
          "base_uri": "https://localhost:8080/",
          "height": 204
        },
        "outputId": "57b1c7c3-a969-48df-9b16-c80e6ad3d803"
      },
      "source": [
        "#Crear DataSet con características seleccionadas\n",
        "titanic_data= pd.DataFrame({\"Survived\":df[\"Survived\"],\"Pclass\":df[\"Pclass\"],\"Sex\":df[\"Sex\"],\n",
        "              \"Age\":df[\"Age\"],\"SibSp\":df[\"SibSp\"],\"Parch\":df[\"Parch\"],\"Fare\":df[\"Fare\"],\"Embarked\":df[\"Embarked\"]})\n",
        "data_set_not_null=titanic_data.drop(titanic_data[titanic_data.Age.isnull()].index)\n",
        "data_set_not_null.head()\n"
      ],
      "execution_count": null,
      "outputs": [
        {
          "output_type": "execute_result",
          "data": {
            "text/html": [
              "<div>\n",
              "<style scoped>\n",
              "    .dataframe tbody tr th:only-of-type {\n",
              "        vertical-align: middle;\n",
              "    }\n",
              "\n",
              "    .dataframe tbody tr th {\n",
              "        vertical-align: top;\n",
              "    }\n",
              "\n",
              "    .dataframe thead th {\n",
              "        text-align: right;\n",
              "    }\n",
              "</style>\n",
              "<table border=\"1\" class=\"dataframe\">\n",
              "  <thead>\n",
              "    <tr style=\"text-align: right;\">\n",
              "      <th></th>\n",
              "      <th>Survived</th>\n",
              "      <th>Pclass</th>\n",
              "      <th>Sex</th>\n",
              "      <th>Age</th>\n",
              "      <th>SibSp</th>\n",
              "      <th>Parch</th>\n",
              "      <th>Fare</th>\n",
              "      <th>Embarked</th>\n",
              "    </tr>\n",
              "  </thead>\n",
              "  <tbody>\n",
              "    <tr>\n",
              "      <th>0</th>\n",
              "      <td>0</td>\n",
              "      <td>3</td>\n",
              "      <td>0</td>\n",
              "      <td>22.0</td>\n",
              "      <td>1</td>\n",
              "      <td>0</td>\n",
              "      <td>7.2500</td>\n",
              "      <td>3.0</td>\n",
              "    </tr>\n",
              "    <tr>\n",
              "      <th>1</th>\n",
              "      <td>1</td>\n",
              "      <td>1</td>\n",
              "      <td>1</td>\n",
              "      <td>38.0</td>\n",
              "      <td>1</td>\n",
              "      <td>0</td>\n",
              "      <td>71.2833</td>\n",
              "      <td>1.0</td>\n",
              "    </tr>\n",
              "    <tr>\n",
              "      <th>2</th>\n",
              "      <td>1</td>\n",
              "      <td>3</td>\n",
              "      <td>1</td>\n",
              "      <td>26.0</td>\n",
              "      <td>0</td>\n",
              "      <td>0</td>\n",
              "      <td>7.9250</td>\n",
              "      <td>3.0</td>\n",
              "    </tr>\n",
              "    <tr>\n",
              "      <th>3</th>\n",
              "      <td>1</td>\n",
              "      <td>1</td>\n",
              "      <td>1</td>\n",
              "      <td>35.0</td>\n",
              "      <td>1</td>\n",
              "      <td>0</td>\n",
              "      <td>53.1000</td>\n",
              "      <td>3.0</td>\n",
              "    </tr>\n",
              "    <tr>\n",
              "      <th>4</th>\n",
              "      <td>0</td>\n",
              "      <td>3</td>\n",
              "      <td>0</td>\n",
              "      <td>35.0</td>\n",
              "      <td>0</td>\n",
              "      <td>0</td>\n",
              "      <td>8.0500</td>\n",
              "      <td>3.0</td>\n",
              "    </tr>\n",
              "  </tbody>\n",
              "</table>\n",
              "</div>"
            ],
            "text/plain": [
              "   Survived  Pclass  Sex   Age  SibSp  Parch     Fare  Embarked\n",
              "0         0       3    0  22.0      1      0   7.2500       3.0\n",
              "1         1       1    1  38.0      1      0  71.2833       1.0\n",
              "2         1       3    1  26.0      0      0   7.9250       3.0\n",
              "3         1       1    1  35.0      1      0  53.1000       3.0\n",
              "4         0       3    0  35.0      0      0   8.0500       3.0"
            ]
          },
          "metadata": {
            "tags": []
          },
          "execution_count": 8
        }
      ]
    },
    {
      "cell_type": "code",
      "metadata": {
        "id": "z0bGI0YCM-d_",
        "colab_type": "code",
        "colab": {
          "base_uri": "https://localhost:8080/",
          "height": 34
        },
        "outputId": "b2853a35-5bab-4b46-c801-8832613ebbe3"
      },
      "source": [
        "car=[\"Survived\",\"Pclass\",\"Sex\",\"SibSp\",\"Parch\",\"Fare\"]\n",
        "y=data_set_not_null[\"Age\"]\n",
        "x=data_set_not_null[car]\n",
        "model = LinearRegression()\n",
        "model.fit(x,y)"
      ],
      "execution_count": null,
      "outputs": [
        {
          "output_type": "execute_result",
          "data": {
            "text/plain": [
              "LinearRegression(copy_X=True, fit_intercept=True, n_jobs=None, normalize=False)"
            ]
          },
          "metadata": {
            "tags": []
          },
          "execution_count": 9
        }
      ]
    },
    {
      "cell_type": "markdown",
      "metadata": {
        "id": "HTrj6K5OYhKR",
        "colab_type": "text"
      },
      "source": [
        "Ahora se realiza la predicción para la edad"
      ]
    },
    {
      "cell_type": "code",
      "metadata": {
        "id": "G07uTba6YmPr",
        "colab_type": "code",
        "colab": {}
      },
      "source": [
        "X=titanic_data[car]\n",
        "predict=model.predict(X)"
      ],
      "execution_count": null,
      "outputs": []
    },
    {
      "cell_type": "markdown",
      "metadata": {
        "id": "VPmoPU74Y3Dk",
        "colab_type": "text"
      },
      "source": [
        "Se sustituyen los valores encontrados en el dataframe original"
      ]
    },
    {
      "cell_type": "code",
      "metadata": {
        "id": "ZRunzfDFZCNK",
        "colab_type": "code",
        "colab": {}
      },
      "source": [
        "titanic_data.fillna(0, inplace=True) #fue NECESARIO el inplace\n",
        "#titanic_data.Age.fillna(predict)\n",
        "#titanic_data.loc[(titanic_data.Age.isnull(), \"Age\"]=predict"
      ],
      "execution_count": null,
      "outputs": []
    },
    {
      "cell_type": "markdown",
      "metadata": {
        "id": "Oi3dZ7gPCRVH",
        "colab_type": "text"
      },
      "source": [
        "Verificamos si existen datos nulos"
      ]
    },
    {
      "cell_type": "code",
      "metadata": {
        "id": "I5wbhe_OCUP2",
        "colab_type": "code",
        "colab": {
          "base_uri": "https://localhost:8080/",
          "height": 170
        },
        "outputId": "cdced571-8b3e-43b5-ba1e-e476746af782"
      },
      "source": [
        "titanic_data.isnull().sum()"
      ],
      "execution_count": null,
      "outputs": [
        {
          "output_type": "execute_result",
          "data": {
            "text/plain": [
              "Survived    0\n",
              "Pclass      0\n",
              "Sex         0\n",
              "Age         0\n",
              "SibSp       0\n",
              "Parch       0\n",
              "Fare        0\n",
              "Embarked    0\n",
              "dtype: int64"
            ]
          },
          "metadata": {
            "tags": []
          },
          "execution_count": 13
        }
      ]
    },
    {
      "cell_type": "markdown",
      "metadata": {
        "id": "2tRIJ4-2eTIF",
        "colab_type": "text"
      },
      "source": [
        "###Graficar comparaciones"
      ]
    },
    {
      "cell_type": "markdown",
      "metadata": {
        "id": "AqHfSLkLeYPq",
        "colab_type": "text"
      },
      "source": [
        "**SOBREVIVIENTES VS NO-SOBREVIVIENTES**"
      ]
    },
    {
      "cell_type": "code",
      "metadata": {
        "id": "nARDp0AUjX0p",
        "colab_type": "code",
        "colab": {
          "base_uri": "https://localhost:8080/",
          "height": 309
        },
        "outputId": "3f4c36a3-48be-4b25-abb9-f37888d3c8e0"
      },
      "source": [
        "surv = titanic_data.groupby(['Survived']).size()\n",
        "surv.plot.bar(color='green').grid(True)\n",
        "plt.ylabel(\"# personas\")\n",
        "plt.title(\"Sobrevivientes VS No-Sobrevivientes\")"
      ],
      "execution_count": null,
      "outputs": [
        {
          "output_type": "execute_result",
          "data": {
            "text/plain": [
              "Text(0.5, 1.0, 'Sobrevivientes VS No-Sobrevivientes')"
            ]
          },
          "metadata": {
            "tags": []
          },
          "execution_count": 14
        },
        {
          "output_type": "display_data",
          "data": {
            "image/png": "[encoded data removed]",
            "text/plain": [
              "<Figure size 432x288 with 1 Axes>"
            ]
          },
          "metadata": {
            "tags": [],
            "needs_background": "light"
          }
        }
      ]
    },
    {
      "cell_type": "markdown",
      "metadata": {
        "id": "qR2WBwccnLL_",
        "colab_type": "text"
      },
      "source": [
        "**HOMBRES VS MUJERES QUE SOBREVIVIERON**"
      ]
    },
    {
      "cell_type": "code",
      "metadata": {
        "id": "iGY7oLsQnQc4",
        "colab_type": "code",
        "colab": {
          "base_uri": "https://localhost:8080/",
          "height": 309
        },
        "outputId": "a624d9fb-810b-4b3e-b024-d79ae02acfc7"
      },
      "source": [
        "gender_surv = pd.crosstab(titanic_data['Sex'],titanic_data['Survived'])\n",
        "gender_surv.plot.bar().grid(True)\n",
        "plt.ylabel(\"# Personas\")\n",
        "plt.title(\"Género VS Supervivencia\")\n",
        "\n",
        "#gender_surv=titanic_data.groupby(['Survived','Sex']).size()\n",
        "#gender_surv.plot.bar(color='blue').grid(True)"
      ],
      "execution_count": null,
      "outputs": [
        {
          "output_type": "execute_result",
          "data": {
            "text/plain": [
              "Text(0.5, 1.0, 'Género VS Supervivencia')"
            ]
          },
          "metadata": {
            "tags": []
          },
          "execution_count": 15
        },
        {
          "output_type": "display_data",
          "data": {
            "image/png": "[encoded data removed]",
            "text/plain": [
              "<Figure size 432x288 with 1 Axes>"
            ]
          },
          "metadata": {
            "tags": [],
            "needs_background": "light"
          }
        }
      ]
    },
    {
      "cell_type": "markdown",
      "metadata": {
        "id": "-sJJ9TGerceI",
        "colab_type": "text"
      },
      "source": [
        "Género -> 0=male, 1=female\n",
        "¿Sobrevivieron? -> 0=No, 1=Yes"
      ]
    },
    {
      "cell_type": "markdown",
      "metadata": {
        "id": "KhT7eyeCwQwS",
        "colab_type": "text"
      },
      "source": [
        "**SOBREVIVIENTES POR EDAD (HISTOGRAMA)**"
      ]
    },
    {
      "cell_type": "code",
      "metadata": {
        "id": "RETmUTuPxAP-",
        "colab_type": "code",
        "colab": {
          "base_uri": "https://localhost:8080/",
          "height": 312
        },
        "outputId": "9b8df47e-539c-4cac-9155-0ac81c9fe016"
      },
      "source": [
        "Sur_Age = titanic_data.Age[titanic_data.Survived==1]\n",
        "Sur_Age.plot(kind=\"hist\", color=\"crimson\",bins=8).grid(True)\n",
        "plt.xlabel(\"Edad\")\n",
        "plt.ylabel(\"# sobrevivientes\")\n",
        "plt.title(\"Sobrevivientes por Edad\")"
      ],
      "execution_count": null,
      "outputs": [
        {
          "output_type": "execute_result",
          "data": {
            "text/plain": [
              "Text(0.5, 1.0, 'Sobrevivientes por Edad')"
            ]
          },
          "metadata": {
            "tags": []
          },
          "execution_count": 16
        },
        {
          "output_type": "display_data",
          "data": {
            "image/png": "[encoded data removed]",
            "text/plain": [
              "<Figure size 432x288 with 1 Axes>"
            ]
          },
          "metadata": {
            "tags": [],
            "needs_background": "light"
          }
        }
      ]
    },
    {
      "cell_type": "markdown",
      "metadata": {
        "id": "lFAA8BHOwtUn",
        "colab_type": "text"
      },
      "source": [
        "**¿CÓMO ESTABAN DISTRIBUIDOS LOS PASAJEROS POR CLASE?**"
      ]
    },
    {
      "cell_type": "code",
      "metadata": {
        "id": "1J0gsvVCyZSh",
        "colab_type": "code",
        "colab": {}
      },
      "source": [
        ""
      ],
      "execution_count": null,
      "outputs": []
    },
    {
      "cell_type": "markdown",
      "metadata": {
        "id": "D5RsiW__tmj_",
        "colab_type": "text"
      },
      "source": [
        "**CLASE VS SOBREVIVIENTES (HISTOGRAMA)**"
      ]
    },
    {
      "cell_type": "code",
      "metadata": {
        "id": "glEq6nh0tqLI",
        "colab_type": "code",
        "colab": {
          "base_uri": "https://localhost:8080/",
          "height": 312
        },
        "outputId": "671b22cc-633d-496e-98ec-33f0079a3e54"
      },
      "source": [
        "Pclass_Sup = titanic_data.Pclass[titanic_data.Survived==1]\n",
        "Pclass_Sup.plot(kind=\"hist\", color=\"orange\", bins=3).grid(True)\n",
        "plt.xlabel(\"Clase\")\n",
        "plt.ylabel(\"# Sobrevivientes\")\n",
        "plt.title(\"Clase VS Sobrevivientes\")"
      ],
      "execution_count": null,
      "outputs": [
        {
          "output_type": "execute_result",
          "data": {
            "text/plain": [
              "Text(0.5, 1.0, 'Clase VS Sobrevivientes')"
            ]
          },
          "metadata": {
            "tags": []
          },
          "execution_count": 17
        },
        {
          "output_type": "display_data",
          "data": {
            "image/png": "[encoded data removed]",
            "text/plain": [
              "<Figure size 432x288 with 1 Axes>"
            ]
          },
          "metadata": {
            "tags": [],
            "needs_background": "light"
          }
        }
      ]
    },
    {
      "cell_type": "markdown",
      "metadata": {
        "id": "7tzvB_u0MmH8",
        "colab_type": "text"
      },
      "source": [
        "##4. Separar datos"
      ]
    },
    {
      "cell_type": "code",
      "metadata": {
        "id": "0phqo9lW3kFV",
        "colab_type": "code",
        "colab": {}
      },
      "source": [
        "feature_names=[\"Pclass\",\"Sex\",\"SibSp\",\"Parch\",\"Fare\",\"Embarked\"]\n",
        "x_train, x_test, y_train, y_test = train_test_split(titanic_data[feature_names],titanic_data['Survived'],\n",
        "                                                    random_state=2)"
      ],
      "execution_count": null,
      "outputs": []
    },
    {
      "cell_type": "markdown",
      "metadata": {
        "id": "rvQ-fpIYEyGj",
        "colab_type": "text"
      },
      "source": [
        "##5.Crear instancia de algoritmo"
      ]
    },
    {
      "cell_type": "code",
      "metadata": {
        "id": "RX07sew74Eg1",
        "colab_type": "code",
        "colab": {}
      },
      "source": [
        "arbol =DecisionTreeClassifier(max_depth=2, random_state=0)"
      ],
      "execution_count": null,
      "outputs": []
    },
    {
      "cell_type": "markdown",
      "metadata": {
        "id": "HYmddVrJE38E",
        "colab_type": "text"
      },
      "source": [
        "##6.Entrenar algoritmo"
      ]
    },
    {
      "cell_type": "code",
      "metadata": {
        "id": "a-wRKzrz4fP4",
        "colab_type": "code",
        "colab": {
          "base_uri": "https://localhost:8080/",
          "height": 119
        },
        "outputId": "192b4504-4a9e-4f94-94c6-32c0478345d6"
      },
      "source": [
        "arbol.fit(x_train,y_train)"
      ],
      "execution_count": null,
      "outputs": [
        {
          "output_type": "execute_result",
          "data": {
            "text/plain": [
              "DecisionTreeClassifier(ccp_alpha=0.0, class_weight=None, criterion='gini',\n",
              "                       max_depth=2, max_features=None, max_leaf_nodes=None,\n",
              "                       min_impurity_decrease=0.0, min_impurity_split=None,\n",
              "                       min_samples_leaf=1, min_samples_split=2,\n",
              "                       min_weight_fraction_leaf=0.0, presort='deprecated',\n",
              "                       random_state=0, splitter='best')"
            ]
          },
          "metadata": {
            "tags": []
          },
          "execution_count": 20
        }
      ]
    },
    {
      "cell_type": "markdown",
      "metadata": {
        "id": "sq1-5eViE-iZ",
        "colab_type": "text"
      },
      "source": [
        "##7.Predecir valores"
      ]
    },
    {
      "cell_type": "code",
      "metadata": {
        "id": "5okqDWK_F6en",
        "colab_type": "code",
        "colab": {
          "base_uri": "https://localhost:8080/",
          "height": 153
        },
        "outputId": "029a4b76-d139-429a-fae3-bc606947f3ba"
      },
      "source": [
        "print(x_test.iloc[0])\n",
        "print(y_test.iloc[0])"
      ],
      "execution_count": null,
      "outputs": [
        {
          "output_type": "stream",
          "text": [
            "Pclass       1.0000\n",
            "Sex          0.0000\n",
            "SibSp        0.0000\n",
            "Parch        0.0000\n",
            "Fare        26.2875\n",
            "Embarked     3.0000\n",
            "Name: 707, dtype: float64\n",
            "1\n"
          ],
          "name": "stdout"
        }
      ]
    },
    {
      "cell_type": "markdown",
      "metadata": {
        "id": "UWpoKnCxF_Q0",
        "colab_type": "text"
      },
      "source": [
        "**Se hace predicción**"
      ]
    },
    {
      "cell_type": "code",
      "metadata": {
        "id": "AFGK2pUDG3MA",
        "colab_type": "code",
        "colab": {
          "base_uri": "https://localhost:8080/",
          "height": 34
        },
        "outputId": "cd0f46c5-b7a7-4f5a-c6a2-b977b01887b6"
      },
      "source": [
        "arbol.predict(x_test.iloc[0:10])"
      ],
      "execution_count": null,
      "outputs": [
        {
          "output_type": "execute_result",
          "data": {
            "text/plain": [
              "array([0, 0, 1, 0, 0, 0, 0, 0, 0, 0])"
            ]
          },
          "metadata": {
            "tags": []
          },
          "execution_count": 22
        }
      ]
    },
    {
      "cell_type": "markdown",
      "metadata": {
        "id": "9AtqNdjsFDRP",
        "colab_type": "text"
      },
      "source": [
        "##8.Calcular exactitud "
      ]
    },
    {
      "cell_type": "code",
      "metadata": {
        "id": "7HivAHWeKFcp",
        "colab_type": "code",
        "colab": {
          "base_uri": "https://localhost:8080/",
          "height": 34
        },
        "outputId": "5490fd6e-bbf8-4965-ad0b-169dedcd00ae"
      },
      "source": [
        "accuracy=arbol.score(x_test,y_test)\n",
        "print(accuracy)"
      ],
      "execution_count": null,
      "outputs": [
        {
          "output_type": "stream",
          "text": [
            "0.7488789237668162\n"
          ],
          "name": "stdout"
        }
      ]
    },
    {
      "cell_type": "markdown",
      "metadata": {
        "id": "bf7tPLT3FGqQ",
        "colab_type": "text"
      },
      "source": [
        "##9.Graficar árbol"
      ]
    },
    {
      "cell_type": "code",
      "metadata": {
        "id": "AicUaAz8Kuc4",
        "colab_type": "code",
        "colab": {
          "base_uri": "https://localhost:8080/",
          "height": 34
        },
        "outputId": "e848ab03-c5f4-4576-b90f-8c70673cec04"
      },
      "source": [
        "class_name_list = list(['no_sobrevive','sobrevive'])\n",
        "from sklearn.tree import export_graphviz   #importar para raficar el árbol\n",
        "from pydotplus import graph_from_dot_data #convierte datos que estan en la variables arbol\n",
        "dot_data = export_graphviz(arbol, feature_names=feature_names, class_names=class_name_list)\n",
        "grafico=graph_from_dot_data(dot_data)\n",
        "grafico.write_png('arbol_surv.png')"
      ],
      "execution_count": null,
      "outputs": [
        {
          "output_type": "execute_result",
          "data": {
            "text/plain": [
              "True"
            ]
          },
          "metadata": {
            "tags": []
          },
          "execution_count": 25
        }
      ]
    },
    {
      "cell_type": "markdown",
      "metadata": {
        "id": "ZFkEEiwRFIxE",
        "colab_type": "text"
      },
      "source": [
        "##10.¿Optimizar el árbol?"
      ]
    },
    {
      "cell_type": "markdown",
      "metadata": {
        "id": "Vg0mpGJFMhHJ",
        "colab_type": "text"
      },
      "source": [
        "Al visualiza el árbol generado, podemos evidenciar que debe tener más profundidad, ya que con unaprofundidad 2 solo tienen una probabilidad del 75% "
      ]
    },
    {
      "cell_type": "code",
      "metadata": {
        "id": "ZtaljSK-NxDT",
        "colab_type": "code",
        "colab": {
          "base_uri": "https://localhost:8080/",
          "height": 204
        },
        "outputId": "dff55cc4-a13d-4a13-f500-966f449e8c33"
      },
      "source": [
        "df_importancia = pd.DataFrame({\"característica\": x_train.columns, \"Importancia\":arbol.feature_importances_})\n",
        "df_importancia = df_importancia.sort_values(\"Importancia\",ascending=False)\n",
        "df_importancia.head()"
      ],
      "execution_count": null,
      "outputs": [
        {
          "output_type": "execute_result",
          "data": {
            "text/html": [
              "<div>\n",
              "<style scoped>\n",
              "    .dataframe tbody tr th:only-of-type {\n",
              "        vertical-align: middle;\n",
              "    }\n",
              "\n",
              "    .dataframe tbody tr th {\n",
              "        vertical-align: top;\n",
              "    }\n",
              "\n",
              "    .dataframe thead th {\n",
              "        text-align: right;\n",
              "    }\n",
              "</style>\n",
              "<table border=\"1\" class=\"dataframe\">\n",
              "  <thead>\n",
              "    <tr style=\"text-align: right;\">\n",
              "      <th></th>\n",
              "      <th>característica</th>\n",
              "      <th>Importancia</th>\n",
              "    </tr>\n",
              "  </thead>\n",
              "  <tbody>\n",
              "    <tr>\n",
              "      <th>1</th>\n",
              "      <td>Sex</td>\n",
              "      <td>0.692764</td>\n",
              "    </tr>\n",
              "    <tr>\n",
              "      <th>0</th>\n",
              "      <td>Pclass</td>\n",
              "      <td>0.211268</td>\n",
              "    </tr>\n",
              "    <tr>\n",
              "      <th>4</th>\n",
              "      <td>Fare</td>\n",
              "      <td>0.095967</td>\n",
              "    </tr>\n",
              "    <tr>\n",
              "      <th>2</th>\n",
              "      <td>SibSp</td>\n",
              "      <td>0.000000</td>\n",
              "    </tr>\n",
              "    <tr>\n",
              "      <th>3</th>\n",
              "      <td>Parch</td>\n",
              "      <td>0.000000</td>\n",
              "    </tr>\n",
              "  </tbody>\n",
              "</table>\n",
              "</div>"
            ],
            "text/plain": [
              "  característica  Importancia\n",
              "1            Sex     0.692764\n",
              "0         Pclass     0.211268\n",
              "4           Fare     0.095967\n",
              "2          SibSp     0.000000\n",
              "3          Parch     0.000000"
            ]
          },
          "metadata": {
            "tags": []
          },
          "execution_count": 272
        }
      ]
    },
    {
      "cell_type": "markdown",
      "metadata": {
        "id": "GXi1M4ZVOAvg",
        "colab_type": "text"
      },
      "source": [
        "**Probar diferentes profundidades**"
      ]
    },
    {
      "cell_type": "code",
      "metadata": {
        "id": "K0GhXW5pOGHT",
        "colab_type": "code",
        "colab": {}
      },
      "source": [
        "depth_list=list(range(1,10))\n",
        "accuracy_list=[]\n",
        "for depth in depth_list:\n",
        "  arbol=DecisionTreeClassifier(max_depth=depth, random_state=0)\n",
        "  arbol.fit(x_train,y_train)\n",
        "  score=arbol.score(x_test,y_test)\n",
        "  accuracy_list.append(score)"
      ],
      "execution_count": null,
      "outputs": []
    },
    {
      "cell_type": "markdown",
      "metadata": {
        "id": "udaPAh69OM2G",
        "colab_type": "text"
      },
      "source": [
        "**Graficar resultado**"
      ]
    },
    {
      "cell_type": "code",
      "metadata": {
        "id": "dbmled9hOQZf",
        "colab_type": "code",
        "colab": {
          "base_uri": "https://localhost:8080/",
          "height": 296
        },
        "outputId": "ce9f8311-7dd2-4dba-a95d-cd4793d0d6b2"
      },
      "source": [
        "plt.plot(depth_list,accuracy_list)\n",
        "plt.ylabel(\"Accuracy\")\n",
        "plt.xlabel(\"Depth\")\n",
        "plt.grid(True)\n",
        "plt.show"
      ],
      "execution_count": null,
      "outputs": [
        {
          "output_type": "execute_result",
          "data": {
            "text/plain": [
              "<function matplotlib.pyplot.show>"
            ]
          },
          "metadata": {
            "tags": []
          },
          "execution_count": 274
        },
        {
          "output_type": "display_data",
          "data": {
            "image/png": "[encoded data removed]",
            "text/plain": [
              "<Figure size 432x288 with 1 Axes>"
            ]
          },
          "metadata": {
            "tags": [],
            "needs_background": "light"
          }
        }
      ]
    },
    {
      "cell_type": "markdown",
      "metadata": {
        "id": "6WZgJN_ZOgic",
        "colab_type": "text"
      },
      "source": [
        "La mejor probabilidad se obtiene con la profundidad 3 "
      ]
    },
    {
      "cell_type": "markdown",
      "metadata": {
        "id": "kNubmV3QwSt6",
        "colab_type": "text"
      },
      "source": [
        "#Titanic (clase-con valores nulos eliminados)"
      ]
    },
    {
      "cell_type": "markdown",
      "metadata": {
        "id": "GfT84_0owkBJ",
        "colab_type": "text"
      },
      "source": [
        "##1.Importar librerías\n"
      ]
    },
    {
      "cell_type": "code",
      "metadata": {
        "id": "FEw_dLvlwmPz",
        "colab_type": "code",
        "colab": {
          "base_uri": "https://localhost:8080/",
          "height": 71
        },
        "outputId": "78737e2a-0b11-4bd8-d821-8f14f496f0ec"
      },
      "source": [
        "import numpy as np\n",
        "import pandas as pd \n",
        "from sklearn.model_selection import train_test_split\n",
        "from sklearn.tree import DecisionTreeClassifier\n",
        "from sklearn.metrics import accuracy_score\n",
        "import matplotlib.pyplot as plt\n",
        "import seaborn as sns"
      ],
      "execution_count": null,
      "outputs": [
        {
          "output_type": "stream",
          "text": [
            "/usr/local/lib/python3.6/dist-packages/statsmodels/tools/_testing.py:19: FutureWarning: pandas.util.testing is deprecated. Use the functions in the public API at pandas.testing instead.\n",
            "  import pandas.util.testing as tm\n"
          ],
          "name": "stderr"
        }
      ]
    },
    {
      "cell_type": "markdown",
      "metadata": {
        "id": "hZI36X-5ws8z",
        "colab_type": "text"
      },
      "source": [
        "##2.Cargar Dataset"
      ]
    },
    {
      "cell_type": "code",
      "metadata": {
        "id": "F2tkf3elwwJg",
        "colab_type": "code",
        "colab": {
          "base_uri": "https://localhost:8080/",
          "height": 255
        },
        "outputId": "9eca998b-f383-459b-ba3c-aca2e03ad364"
      },
      "source": [
        "df_titanic = pd.read_csv(\"https://raw.githubusercontent.com/luisFernandoCastellanosG/Machine_learning/master/Databaset_para_trabajar_sklearn/dataset_titanic.csv\")\n",
        "df_titanic.head()"
      ],
      "execution_count": null,
      "outputs": [
        {
          "output_type": "execute_result",
          "data": {
            "text/html": [
              "<div>\n",
              "<style scoped>\n",
              "    .dataframe tbody tr th:only-of-type {\n",
              "        vertical-align: middle;\n",
              "    }\n",
              "\n",
              "    .dataframe tbody tr th {\n",
              "        vertical-align: top;\n",
              "    }\n",
              "\n",
              "    .dataframe thead th {\n",
              "        text-align: right;\n",
              "    }\n",
              "</style>\n",
              "<table border=\"1\" class=\"dataframe\">\n",
              "  <thead>\n",
              "    <tr style=\"text-align: right;\">\n",
              "      <th></th>\n",
              "      <th>PassengerId</th>\n",
              "      <th>Survived</th>\n",
              "      <th>Pclass</th>\n",
              "      <th>Name</th>\n",
              "      <th>Sex</th>\n",
              "      <th>Age</th>\n",
              "      <th>SibSp</th>\n",
              "      <th>Parch</th>\n",
              "      <th>Ticket</th>\n",
              "      <th>Fare</th>\n",
              "      <th>Cabin</th>\n",
              "      <th>Embarked</th>\n",
              "    </tr>\n",
              "  </thead>\n",
              "  <tbody>\n",
              "    <tr>\n",
              "      <th>0</th>\n",
              "      <td>1</td>\n",
              "      <td>0</td>\n",
              "      <td>3</td>\n",
              "      <td>Braund, Mr. Owen Harris</td>\n",
              "      <td>male</td>\n",
              "      <td>22.0</td>\n",
              "      <td>1</td>\n",
              "      <td>0</td>\n",
              "      <td>A/5 21171</td>\n",
              "      <td>7.2500</td>\n",
              "      <td>NaN</td>\n",
              "      <td>S</td>\n",
              "    </tr>\n",
              "    <tr>\n",
              "      <th>1</th>\n",
              "      <td>2</td>\n",
              "      <td>1</td>\n",
              "      <td>1</td>\n",
              "      <td>Cumings, Mrs. John Bradley (Florence Briggs Th...</td>\n",
              "      <td>female</td>\n",
              "      <td>38.0</td>\n",
              "      <td>1</td>\n",
              "      <td>0</td>\n",
              "      <td>PC 17599</td>\n",
              "      <td>71.2833</td>\n",
              "      <td>C85</td>\n",
              "      <td>C</td>\n",
              "    </tr>\n",
              "    <tr>\n",
              "      <th>2</th>\n",
              "      <td>3</td>\n",
              "      <td>1</td>\n",
              "      <td>3</td>\n",
              "      <td>Heikkinen, Miss. Laina</td>\n",
              "      <td>female</td>\n",
              "      <td>26.0</td>\n",
              "      <td>0</td>\n",
              "      <td>0</td>\n",
              "      <td>STON/O2. 3101282</td>\n",
              "      <td>7.9250</td>\n",
              "      <td>NaN</td>\n",
              "      <td>S</td>\n",
              "    </tr>\n",
              "    <tr>\n",
              "      <th>3</th>\n",
              "      <td>4</td>\n",
              "      <td>1</td>\n",
              "      <td>1</td>\n",
              "      <td>Futrelle, Mrs. Jacques Heath (Lily May Peel)</td>\n",
              "      <td>female</td>\n",
              "      <td>35.0</td>\n",
              "      <td>1</td>\n",
              "      <td>0</td>\n",
              "      <td>113803</td>\n",
              "      <td>53.1000</td>\n",
              "      <td>C123</td>\n",
              "      <td>S</td>\n",
              "    </tr>\n",
              "    <tr>\n",
              "      <th>4</th>\n",
              "      <td>5</td>\n",
              "      <td>0</td>\n",
              "      <td>3</td>\n",
              "      <td>Allen, Mr. William Henry</td>\n",
              "      <td>male</td>\n",
              "      <td>35.0</td>\n",
              "      <td>0</td>\n",
              "      <td>0</td>\n",
              "      <td>373450</td>\n",
              "      <td>8.0500</td>\n",
              "      <td>NaN</td>\n",
              "      <td>S</td>\n",
              "    </tr>\n",
              "  </tbody>\n",
              "</table>\n",
              "</div>"
            ],
            "text/plain": [
              "   PassengerId  Survived  Pclass  ...     Fare Cabin  Embarked \n",
              "0            1         0       3  ...   7.2500   NaN          S\n",
              "1            2         1       1  ...  71.2833   C85          C\n",
              "2            3         1       3  ...   7.9250   NaN          S\n",
              "3            4         1       1  ...  53.1000  C123          S\n",
              "4            5         0       3  ...   8.0500   NaN          S\n",
              "\n",
              "[5 rows x 12 columns]"
            ]
          },
          "metadata": {
            "tags": []
          },
          "execution_count": 2
        }
      ]
    },
    {
      "cell_type": "markdown",
      "metadata": {
        "id": "yeIYEuf9wy0i",
        "colab_type": "text"
      },
      "source": [
        "##3.Conociendo datos"
      ]
    },
    {
      "cell_type": "code",
      "metadata": {
        "id": "61GDChb2w0zg",
        "colab_type": "code",
        "colab": {
          "base_uri": "https://localhost:8080/",
          "height": 238
        },
        "outputId": "31730b93-0b06-4425-c307-87b3983ee648"
      },
      "source": [
        "#nombres de columnas\n",
        "df_titanic.columns\n",
        "#mostrar estadisticas del dataset\n",
        "df_titanic.describe()\n",
        "#conocer valores nulos\n",
        "df_titanic.isnull().sum()"
      ],
      "execution_count": null,
      "outputs": [
        {
          "output_type": "execute_result",
          "data": {
            "text/plain": [
              "PassengerId      0\n",
              "Survived         0\n",
              "Pclass           0\n",
              "Name             0\n",
              "Sex              0\n",
              "Age            177\n",
              "SibSp            0\n",
              "Parch            0\n",
              "Ticket           0\n",
              "Fare             0\n",
              "Cabin          687\n",
              "Embarked         2\n",
              "dtype: int64"
            ]
          },
          "metadata": {
            "tags": []
          },
          "execution_count": 3
        }
      ]
    },
    {
      "cell_type": "markdown",
      "metadata": {
        "id": "ONCU1cfhw6v-",
        "colab_type": "text"
      },
      "source": [
        "##4.Graficando datos\n"
      ]
    },
    {
      "cell_type": "code",
      "metadata": {
        "id": "5-notVX4w8tF",
        "colab_type": "code",
        "colab": {
          "base_uri": "https://localhost:8080/",
          "height": 315
        },
        "outputId": "acbe277b-d535-44be-a585-e514bfd9b8e5"
      },
      "source": [
        "#grafica de torta para sobrevivientes (si/no)\n",
        "datos = df_titanic.Survived.value_counts(normalize=True)\n",
        "print(datos)\n",
        "plt.pie(datos, labels=[\"No\",\"Si\"],autopct=\"%0.1f %%\")\n",
        "plt.title(\"% de sobrevivientes\")\n",
        "plt.show()"
      ],
      "execution_count": null,
      "outputs": [
        {
          "output_type": "stream",
          "text": [
            "0    0.616162\n",
            "1    0.383838\n",
            "Name: Survived, dtype: float64\n"
          ],
          "name": "stdout"
        },
        {
          "output_type": "display_data",
          "data": {
            "image/png": "[encoded data removed]",
            "text/plain": [
              "<Figure size 432x288 with 1 Axes>"
            ]
          },
          "metadata": {
            "tags": []
          }
        }
      ]
    },
    {
      "cell_type": "code",
      "metadata": {
        "id": "CFBlpmBYxAe0",
        "colab_type": "code",
        "colab": {
          "base_uri": "https://localhost:8080/",
          "height": 299
        },
        "outputId": "ac15181b-6fd3-4bc5-e332-3d84a0c91df9"
      },
      "source": [
        "#sobrevivientes vs sexo (Male / Female)\n",
        "datos= df_titanic.Sex[df_titanic.Survived==1].value_counts(normalize=True)\n",
        "print(datos)\n",
        "plt.pie(datos,labels=[\"Mujer\",\"Hombre\"],autopct=\"%0.1f %%\")\n",
        "plt.show()"
      ],
      "execution_count": null,
      "outputs": [
        {
          "output_type": "stream",
          "text": [
            "female    0.681287\n",
            "male      0.318713\n",
            "Name: Sex, dtype: float64\n"
          ],
          "name": "stdout"
        },
        {
          "output_type": "display_data",
          "data": {
            "image/png": "[encoded data removed]",
            "text/plain": [
              "<Figure size 432x288 with 1 Axes>"
            ]
          },
          "metadata": {
            "tags": []
          }
        }
      ]
    },
    {
      "cell_type": "code",
      "metadata": {
        "id": "lPVT6jOBxDhY",
        "colab_type": "code",
        "colab": {
          "base_uri": "https://localhost:8080/",
          "height": 316
        },
        "outputId": "514919b6-fc2f-4c33-d3e0-228db7e40791"
      },
      "source": [
        "#sobrevivientes por clase (3, 2,1)\n",
        "datos= df_titanic.Pclass[df_titanic.Survived==1].value_counts(normalize=True)\n",
        "print(datos)\n",
        "plt.pie(datos,labels=[\"Pobres\",\"Media\",\"Alta\"],autopct=\"%0.1f %%\")\n",
        "plt.show()"
      ],
      "execution_count": null,
      "outputs": [
        {
          "output_type": "stream",
          "text": [
            "1    0.397661\n",
            "3    0.347953\n",
            "2    0.254386\n",
            "Name: Pclass, dtype: float64\n"
          ],
          "name": "stdout"
        },
        {
          "output_type": "display_data",
          "data": {
            "image/png": "[encoded data removed]",
            "text/plain": [
              "<Figure size 432x288 with 1 Axes>"
            ]
          },
          "metadata": {
            "tags": []
          }
        }
      ]
    },
    {
      "cell_type": "code",
      "metadata": {
        "id": "iSj3DYcXxEiF",
        "colab_type": "code",
        "colab": {
          "base_uri": "https://localhost:8080/",
          "height": 265
        },
        "outputId": "aee6af20-d4d9-4dd6-dc77-393bed7c9ce4"
      },
      "source": [
        "# clases vs edad\n",
        "for t_class in [1,2,3] :\n",
        "  df_titanic.Age[df_titanic.Pclass==t_class].plot(kind=\"kde\")\n",
        "plt.legend({\"1\",\"2\",\"3\"})\n",
        "plt.grid()\n",
        "plt.show()"
      ],
      "execution_count": null,
      "outputs": [
        {
          "output_type": "display_data",
          "data": {
            "image/png": "[encoded data removed]",
            "text/plain": [
              "<Figure size 432x288 with 1 Axes>"
            ]
          },
          "metadata": {
            "tags": [],
            "needs_background": "light"
          }
        }
      ]
    },
    {
      "cell_type": "markdown",
      "metadata": {
        "id": "4BAH1xK0xH0Z",
        "colab_type": "text"
      },
      "source": [
        "##5.Normalizando datos\n"
      ]
    },
    {
      "cell_type": "markdown",
      "metadata": {
        "id": "QUpSbHcnxOl_",
        "colab_type": "text"
      },
      "source": [
        "###Eliminado columnas"
      ]
    },
    {
      "cell_type": "code",
      "metadata": {
        "id": "fDZ4mL71xKf2",
        "colab_type": "code",
        "colab": {
          "base_uri": "https://localhost:8080/",
          "height": 204
        },
        "outputId": "1001b964-bac6-4461-826e-5caf753e9e51"
      },
      "source": [
        "#df_titanic.drop(['Cabin','PassengerId','Name','Ticket','Embarked '], axis=1,inplace=True)\n",
        "#df_titanic.dropna(inplace=True)\n",
        "df_titanic.head()\n",
        "#df_titanic.shape"
      ],
      "execution_count": null,
      "outputs": [
        {
          "output_type": "execute_result",
          "data": {
            "text/html": [
              "<div>\n",
              "<style scoped>\n",
              "    .dataframe tbody tr th:only-of-type {\n",
              "        vertical-align: middle;\n",
              "    }\n",
              "\n",
              "    .dataframe tbody tr th {\n",
              "        vertical-align: top;\n",
              "    }\n",
              "\n",
              "    .dataframe thead th {\n",
              "        text-align: right;\n",
              "    }\n",
              "</style>\n",
              "<table border=\"1\" class=\"dataframe\">\n",
              "  <thead>\n",
              "    <tr style=\"text-align: right;\">\n",
              "      <th></th>\n",
              "      <th>Survived</th>\n",
              "      <th>Pclass</th>\n",
              "      <th>Sex</th>\n",
              "      <th>Age</th>\n",
              "      <th>SibSp</th>\n",
              "      <th>Parch</th>\n",
              "      <th>Fare</th>\n",
              "    </tr>\n",
              "  </thead>\n",
              "  <tbody>\n",
              "    <tr>\n",
              "      <th>0</th>\n",
              "      <td>0</td>\n",
              "      <td>3</td>\n",
              "      <td>male</td>\n",
              "      <td>22.0</td>\n",
              "      <td>1</td>\n",
              "      <td>0</td>\n",
              "      <td>7.2500</td>\n",
              "    </tr>\n",
              "    <tr>\n",
              "      <th>1</th>\n",
              "      <td>1</td>\n",
              "      <td>1</td>\n",
              "      <td>female</td>\n",
              "      <td>38.0</td>\n",
              "      <td>1</td>\n",
              "      <td>0</td>\n",
              "      <td>71.2833</td>\n",
              "    </tr>\n",
              "    <tr>\n",
              "      <th>2</th>\n",
              "      <td>1</td>\n",
              "      <td>3</td>\n",
              "      <td>female</td>\n",
              "      <td>26.0</td>\n",
              "      <td>0</td>\n",
              "      <td>0</td>\n",
              "      <td>7.9250</td>\n",
              "    </tr>\n",
              "    <tr>\n",
              "      <th>3</th>\n",
              "      <td>1</td>\n",
              "      <td>1</td>\n",
              "      <td>female</td>\n",
              "      <td>35.0</td>\n",
              "      <td>1</td>\n",
              "      <td>0</td>\n",
              "      <td>53.1000</td>\n",
              "    </tr>\n",
              "    <tr>\n",
              "      <th>4</th>\n",
              "      <td>0</td>\n",
              "      <td>3</td>\n",
              "      <td>male</td>\n",
              "      <td>35.0</td>\n",
              "      <td>0</td>\n",
              "      <td>0</td>\n",
              "      <td>8.0500</td>\n",
              "    </tr>\n",
              "  </tbody>\n",
              "</table>\n",
              "</div>"
            ],
            "text/plain": [
              "   Survived  Pclass     Sex   Age  SibSp  Parch     Fare\n",
              "0         0       3    male  22.0      1      0   7.2500\n",
              "1         1       1  female  38.0      1      0  71.2833\n",
              "2         1       3  female  26.0      0      0   7.9250\n",
              "3         1       1  female  35.0      1      0  53.1000\n",
              "4         0       3    male  35.0      0      0   8.0500"
            ]
          },
          "metadata": {
            "tags": []
          },
          "execution_count": 9
        }
      ]
    },
    {
      "cell_type": "markdown",
      "metadata": {
        "id": "LWCZUw92xbP9",
        "colab_type": "text"
      },
      "source": [
        "###reemplazar palabras por números"
      ]
    },
    {
      "cell_type": "code",
      "metadata": {
        "id": "UlT89Bdjxd03",
        "colab_type": "code",
        "colab": {}
      },
      "source": [
        "from sklearn import preprocessing    #clase que permite hacer ETL \n",
        "#cambiar palabbras en orden alfabetico por números Female (0), Male (1)\n",
        "le =preprocessing.LabelEncoder()\n",
        "df_titanic['Sex']=le.fit_transform(df_titanic['Sex'])"
      ],
      "execution_count": null,
      "outputs": []
    },
    {
      "cell_type": "markdown",
      "metadata": {
        "id": "A0vsa1goxhVT",
        "colab_type": "text"
      },
      "source": [
        "###Instanciar árbol"
      ]
    },
    {
      "cell_type": "code",
      "metadata": {
        "id": "wL9vaSBRxjKQ",
        "colab_type": "code",
        "colab": {}
      },
      "source": [
        "arbol = DecisionTreeClassifier()"
      ],
      "execution_count": null,
      "outputs": []
    },
    {
      "cell_type": "markdown",
      "metadata": {
        "id": "PuW8vpeXxk_z",
        "colab_type": "text"
      },
      "source": [
        "##6.Separar datos de X y Y y entrenar"
      ]
    },
    {
      "cell_type": "markdown",
      "metadata": {
        "id": "y1wA4newxpyv",
        "colab_type": "text"
      },
      "source": [
        "X= (Pclass + Sex +Age +Sibsp + Parch + Fare)\n",
        "y= survived"
      ]
    },
    {
      "cell_type": "code",
      "metadata": {
        "id": "XoDfjT4JxneS",
        "colab_type": "code",
        "colab": {
          "base_uri": "https://localhost:8080/",
          "height": 119
        },
        "outputId": "72b90b18-f6ae-47da-eab7-43917461dc60"
      },
      "source": [
        "X= df_titanic[[\"Pclass\",\"Sex\",\"Age\",\"SibSp\",\"Parch\"]]\n",
        "Y= df_titanic['Survived']\n",
        "#train y test, random_state=number --> estraer siempre los mismo datos en el entrenamiento (capacitación)\n",
        "X_train, X_test, Y_train,Y_test = train_test_split(X,Y,test_size=0.3)\n",
        "arbol.fit(X_train,Y_train)"
      ],
      "execution_count": null,
      "outputs": [
        {
          "output_type": "execute_result",
          "data": {
            "text/plain": [
              "DecisionTreeClassifier(ccp_alpha=0.0, class_weight=None, criterion='gini',\n",
              "                       max_depth=None, max_features=None, max_leaf_nodes=None,\n",
              "                       min_impurity_decrease=0.0, min_impurity_split=None,\n",
              "                       min_samples_leaf=1, min_samples_split=2,\n",
              "                       min_weight_fraction_leaf=0.0, presort='deprecated',\n",
              "                       random_state=None, splitter='best')"
            ]
          },
          "metadata": {
            "tags": []
          },
          "execution_count": 12
        }
      ]
    },
    {
      "cell_type": "markdown",
      "metadata": {
        "id": "jWypbTOGxvCn",
        "colab_type": "text"
      },
      "source": [
        "##7.Predicciones"
      ]
    },
    {
      "cell_type": "code",
      "metadata": {
        "id": "5GbBBf1_xw2K",
        "colab_type": "code",
        "colab": {
          "base_uri": "https://localhost:8080/",
          "height": 68
        },
        "outputId": "ea9efbfc-4681-49e8-b050-978d85e2d253"
      },
      "source": [
        "y_train_predi=arbol.predict(X_train)\n",
        "y_test_predi= arbol.predict(X_test)\n",
        "#calcular la exactitud\n",
        "print(\"Accuracy of train: %\"+ str(accuracy_score(y_train_predi,Y_train)))\n",
        "print(\"Accuracy of test: %\"+ str(accuracy_score(y_test_predi, Y_test)))\n",
        "#overfitting \n",
        "print(\"Accuracy Global %\"+ str(arbol.score(X_test,Y_test)))"
      ],
      "execution_count": null,
      "outputs": [
        {
          "output_type": "stream",
          "text": [
            "Accuracy of train: %0.9498997995991983\n",
            "Accuracy of test: %0.7441860465116279\n",
            "Accuracy Global %0.7441860465116279\n"
          ],
          "name": "stdout"
        }
      ]
    },
    {
      "cell_type": "markdown",
      "metadata": {
        "id": "zNDIWh1wx-Vj",
        "colab_type": "text"
      },
      "source": [
        "##8.Graficar árbol\n"
      ]
    },
    {
      "cell_type": "code",
      "metadata": {
        "id": "rW1XZLr2yALU",
        "colab_type": "code",
        "colab": {
          "base_uri": "https://localhost:8080/",
          "height": 34
        },
        "outputId": "e89e9dd5-46de-4c44-d79a-47d23b130cdd"
      },
      "source": [
        "classs_name_list= list([\"dead\",\"live\"])\n",
        "from sklearn.tree import export_graphviz\n",
        "from pydotplus import graph_from_dot_data\n",
        "dot_data= export_graphviz(arbol, feature_names=[\"Pclass\",\"Sex\",\"Age\",\"SibSp\",\"Parch\"],class_names=classs_name_list)\n",
        "graphic= graph_from_dot_data(dot_data)\n",
        "graphic.write_png(\"arbol_titanic_v3.png\")"
      ],
      "execution_count": null,
      "outputs": [
        {
          "output_type": "execute_result",
          "data": {
            "text/plain": [
              "True"
            ]
          },
          "metadata": {
            "tags": []
          },
          "execution_count": 14
        }
      ]
    }
  ]
}